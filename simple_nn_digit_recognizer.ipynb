{
 "cells": [
  {
   "cell_type": "markdown",
   "id": "e4867685",
   "metadata": {},
   "source": [
    "## Image Classification\n",
    "\n",
    "This notebook uses a simple neural network to classify images in Kaggle's MNIST Digit Recognizer data set.  \n",
    "\n",
    "Image classification is the task of assigning a label or class to an input image. It is a supervised learning problem, where a model is trained on a labeled dataset of images and their corresponding class labels, and then used to predict the class label of new, unseen images.\n",
    "\n",
    "This notebook \n",
    "1. Downloads and reads the Kaggle MNIST training and test datasets, \n",
    "2. Builds a basic neural network to classify the training data,\n",
    "3. Predicts the test data, and \n",
    "4. Provides a confusion matrix and accuracy metrics.  \n",
    "\n",
    "Source: https://www.kaggle.com/competitions/digit-recognizer/overview"
   ]
  },
  {
   "cell_type": "markdown",
   "id": "ef09712d",
   "metadata": {},
   "source": [
    "### Import Libraries"
   ]
  },
  {
   "cell_type": "code",
   "execution_count": 33,
   "id": "b247932a",
   "metadata": {},
   "outputs": [],
   "source": [
    "import os\n",
    "#!pip install kaggle\n",
    "from kaggle.api.kaggle_api_extended import KaggleApi\n",
    "from zipfile import ZipFile\n",
    "\n",
    "from matplotlib import pyplot as plt\n",
    "\n",
    "import pandas as pd\n",
    "import numpy as np\n",
    "\n",
    "from sklearn.model_selection import train_test_split\n",
    "\n",
    "import tensorflow as tf\n",
    "from tensorflow import keras\n",
    "from tensorflow.keras import models, layers\n",
    "from tensorflow.keras.utils import to_categorical\n",
    "\n",
    "from keras.models import Sequential\n",
    "from tensorflow.keras.layers import Dense\n",
    "from tensorflow.keras.callbacks import EarlyStopping, ModelCheckpoint \n",
    "\n",
    "from sklearn.metrics import classification_report\n",
    "import seaborn as sn"
   ]
  },
  {
   "cell_type": "code",
   "execution_count": 4,
   "id": "822b38a9",
   "metadata": {},
   "outputs": [
    {
     "name": "stdout",
     "output_type": "stream",
     "text": [
      "mkdir: /Users/sherilyn/.kaggle: File exists\r\n"
     ]
    }
   ],
   "source": [
    "!mkdir ~/.kaggle\n",
    "!echo '{\"username\":\"sherylmichael\",\"key\":\"c75f8d530e0af74d13b7420065cc474b\"}' > ~/.kaggle/kaggle.json\n",
    "!chmod 600 ~/.kaggle/kaggle.json"
   ]
  },
  {
   "cell_type": "markdown",
   "id": "e3f402cd",
   "metadata": {},
   "source": [
    "### Download & Read Kaggle date set, MNIST"
   ]
  },
  {
   "cell_type": "code",
   "execution_count": 5,
   "id": "c945fd7d",
   "metadata": {},
   "outputs": [
    {
     "name": "stdout",
     "output_type": "stream",
     "text": [
      "[https://www.kaggle.com/competitions/digit-recognizer]\n"
     ]
    }
   ],
   "source": [
    "#download Kaggle data set\n",
    "iskaggle = os.environ.get('KAGGLE_KERNEL_RUN_TYPE', '')\n",
    "\n",
    "api = KaggleApi()\n",
    "api.authenticate()\n",
    "\n",
    "cls_list=api.competitions_list(search='mnist')\n",
    "print(cls_list)"
   ]
  },
  {
   "cell_type": "code",
   "execution_count": 6,
   "id": "f9970ccf",
   "metadata": {},
   "outputs": [
    {
     "name": "stdout",
     "output_type": "stream",
     "text": [
      "[train.csv, sample_submission.csv, test.csv]\n"
     ]
    }
   ],
   "source": [
    "print(api.competition_list_files('digit-recognizer'))\n",
    "api.competition_download_files('digit-recognizer')"
   ]
  },
  {
   "cell_type": "code",
   "execution_count": 45,
   "id": "c35f0c6f",
   "metadata": {},
   "outputs": [],
   "source": [
    "# Read train & test data\n",
    "zf = ZipFile('/Users/sherilyn/ds_jungle/computer_vision/classification/multiclass/digit_recognizer/data/digit-recognizer.zip')\n",
    "zf.extractall('/Users/sherilyn/ds_jungle/computer_vision/classification/multiclass/digit_recognizer/data')\n",
    "zf.close()"
   ]
  },
  {
   "cell_type": "code",
   "execution_count": 19,
   "id": "9975db1e",
   "metadata": {},
   "outputs": [],
   "source": [
    "train = pd.read_csv(r\"/Users/sherilyn/ds_jungle/computer_vision/classification/multiclass/digit_recognizer/data/train.csv\")\n",
    "test = pd.read_csv(r\"/Users/sherilyn/ds_jungle/computer_vision/classification/multiclass/digit_recognizer/data/test.csv\")"
   ]
  },
  {
   "cell_type": "markdown",
   "id": "e32abab7",
   "metadata": {},
   "source": [
    "### Exploring Data\n",
    "\n",
    "#### Explore train data"
   ]
  },
  {
   "cell_type": "code",
   "execution_count": 9,
   "id": "e9979e4e",
   "metadata": {},
   "outputs": [
    {
     "name": "stdout",
     "output_type": "stream",
     "text": [
      "train shape: (42000, 785)\n"
     ]
    },
    {
     "data": {
      "text/html": [
       "<div>\n",
       "<style scoped>\n",
       "    .dataframe tbody tr th:only-of-type {\n",
       "        vertical-align: middle;\n",
       "    }\n",
       "\n",
       "    .dataframe tbody tr th {\n",
       "        vertical-align: top;\n",
       "    }\n",
       "\n",
       "    .dataframe thead th {\n",
       "        text-align: right;\n",
       "    }\n",
       "</style>\n",
       "<table border=\"1\" class=\"dataframe\">\n",
       "  <thead>\n",
       "    <tr style=\"text-align: right;\">\n",
       "      <th></th>\n",
       "      <th>label</th>\n",
       "      <th>pixel0</th>\n",
       "      <th>pixel1</th>\n",
       "      <th>pixel2</th>\n",
       "      <th>pixel3</th>\n",
       "      <th>pixel4</th>\n",
       "      <th>pixel5</th>\n",
       "      <th>pixel6</th>\n",
       "      <th>pixel7</th>\n",
       "      <th>pixel8</th>\n",
       "      <th>...</th>\n",
       "      <th>pixel774</th>\n",
       "      <th>pixel775</th>\n",
       "      <th>pixel776</th>\n",
       "      <th>pixel777</th>\n",
       "      <th>pixel778</th>\n",
       "      <th>pixel779</th>\n",
       "      <th>pixel780</th>\n",
       "      <th>pixel781</th>\n",
       "      <th>pixel782</th>\n",
       "      <th>pixel783</th>\n",
       "    </tr>\n",
       "  </thead>\n",
       "  <tbody>\n",
       "    <tr>\n",
       "      <th>0</th>\n",
       "      <td>1</td>\n",
       "      <td>0</td>\n",
       "      <td>0</td>\n",
       "      <td>0</td>\n",
       "      <td>0</td>\n",
       "      <td>0</td>\n",
       "      <td>0</td>\n",
       "      <td>0</td>\n",
       "      <td>0</td>\n",
       "      <td>0</td>\n",
       "      <td>...</td>\n",
       "      <td>0</td>\n",
       "      <td>0</td>\n",
       "      <td>0</td>\n",
       "      <td>0</td>\n",
       "      <td>0</td>\n",
       "      <td>0</td>\n",
       "      <td>0</td>\n",
       "      <td>0</td>\n",
       "      <td>0</td>\n",
       "      <td>0</td>\n",
       "    </tr>\n",
       "    <tr>\n",
       "      <th>1</th>\n",
       "      <td>0</td>\n",
       "      <td>0</td>\n",
       "      <td>0</td>\n",
       "      <td>0</td>\n",
       "      <td>0</td>\n",
       "      <td>0</td>\n",
       "      <td>0</td>\n",
       "      <td>0</td>\n",
       "      <td>0</td>\n",
       "      <td>0</td>\n",
       "      <td>...</td>\n",
       "      <td>0</td>\n",
       "      <td>0</td>\n",
       "      <td>0</td>\n",
       "      <td>0</td>\n",
       "      <td>0</td>\n",
       "      <td>0</td>\n",
       "      <td>0</td>\n",
       "      <td>0</td>\n",
       "      <td>0</td>\n",
       "      <td>0</td>\n",
       "    </tr>\n",
       "    <tr>\n",
       "      <th>2</th>\n",
       "      <td>1</td>\n",
       "      <td>0</td>\n",
       "      <td>0</td>\n",
       "      <td>0</td>\n",
       "      <td>0</td>\n",
       "      <td>0</td>\n",
       "      <td>0</td>\n",
       "      <td>0</td>\n",
       "      <td>0</td>\n",
       "      <td>0</td>\n",
       "      <td>...</td>\n",
       "      <td>0</td>\n",
       "      <td>0</td>\n",
       "      <td>0</td>\n",
       "      <td>0</td>\n",
       "      <td>0</td>\n",
       "      <td>0</td>\n",
       "      <td>0</td>\n",
       "      <td>0</td>\n",
       "      <td>0</td>\n",
       "      <td>0</td>\n",
       "    </tr>\n",
       "    <tr>\n",
       "      <th>3</th>\n",
       "      <td>4</td>\n",
       "      <td>0</td>\n",
       "      <td>0</td>\n",
       "      <td>0</td>\n",
       "      <td>0</td>\n",
       "      <td>0</td>\n",
       "      <td>0</td>\n",
       "      <td>0</td>\n",
       "      <td>0</td>\n",
       "      <td>0</td>\n",
       "      <td>...</td>\n",
       "      <td>0</td>\n",
       "      <td>0</td>\n",
       "      <td>0</td>\n",
       "      <td>0</td>\n",
       "      <td>0</td>\n",
       "      <td>0</td>\n",
       "      <td>0</td>\n",
       "      <td>0</td>\n",
       "      <td>0</td>\n",
       "      <td>0</td>\n",
       "    </tr>\n",
       "    <tr>\n",
       "      <th>4</th>\n",
       "      <td>0</td>\n",
       "      <td>0</td>\n",
       "      <td>0</td>\n",
       "      <td>0</td>\n",
       "      <td>0</td>\n",
       "      <td>0</td>\n",
       "      <td>0</td>\n",
       "      <td>0</td>\n",
       "      <td>0</td>\n",
       "      <td>0</td>\n",
       "      <td>...</td>\n",
       "      <td>0</td>\n",
       "      <td>0</td>\n",
       "      <td>0</td>\n",
       "      <td>0</td>\n",
       "      <td>0</td>\n",
       "      <td>0</td>\n",
       "      <td>0</td>\n",
       "      <td>0</td>\n",
       "      <td>0</td>\n",
       "      <td>0</td>\n",
       "    </tr>\n",
       "  </tbody>\n",
       "</table>\n",
       "<p>5 rows × 785 columns</p>\n",
       "</div>"
      ],
      "text/plain": [
       "   label  pixel0  pixel1  pixel2  pixel3  pixel4  pixel5  pixel6  pixel7  \\\n",
       "0      1       0       0       0       0       0       0       0       0   \n",
       "1      0       0       0       0       0       0       0       0       0   \n",
       "2      1       0       0       0       0       0       0       0       0   \n",
       "3      4       0       0       0       0       0       0       0       0   \n",
       "4      0       0       0       0       0       0       0       0       0   \n",
       "\n",
       "   pixel8  ...  pixel774  pixel775  pixel776  pixel777  pixel778  pixel779  \\\n",
       "0       0  ...         0         0         0         0         0         0   \n",
       "1       0  ...         0         0         0         0         0         0   \n",
       "2       0  ...         0         0         0         0         0         0   \n",
       "3       0  ...         0         0         0         0         0         0   \n",
       "4       0  ...         0         0         0         0         0         0   \n",
       "\n",
       "   pixel780  pixel781  pixel782  pixel783  \n",
       "0         0         0         0         0  \n",
       "1         0         0         0         0  \n",
       "2         0         0         0         0  \n",
       "3         0         0         0         0  \n",
       "4         0         0         0         0  \n",
       "\n",
       "[5 rows x 785 columns]"
      ]
     },
     "execution_count": 9,
     "metadata": {},
     "output_type": "execute_result"
    }
   ],
   "source": [
    "print(\"train shape:\", train.shape)\n",
    "train.head()"
   ]
  },
  {
   "cell_type": "code",
   "execution_count": 10,
   "id": "1e124765",
   "metadata": {},
   "outputs": [
    {
     "data": {
      "text/plain": [
       "label       0\n",
       "pixel0      0\n",
       "pixel1      0\n",
       "pixel2      0\n",
       "pixel3      0\n",
       "           ..\n",
       "pixel779    0\n",
       "pixel780    0\n",
       "pixel781    0\n",
       "pixel782    0\n",
       "pixel783    0\n",
       "Length: 785, dtype: int64"
      ]
     },
     "execution_count": 10,
     "metadata": {},
     "output_type": "execute_result"
    }
   ],
   "source": [
    "#missing data\n",
    "train.isna().sum()"
   ]
  },
  {
   "cell_type": "code",
   "execution_count": 11,
   "id": "b8c4705d",
   "metadata": {},
   "outputs": [
    {
     "name": "stdout",
     "output_type": "stream",
     "text": [
      "Count of Unique Lables:  10\n",
      "Unique labels:  [1 0 4 7 3 5 8 9 2 6]\n"
     ]
    },
    {
     "data": {
      "image/png": "[encoded data removed]",
      "text/plain": [
       "<Figure size 600x600 with 1 Axes>"
      ]
     },
     "metadata": {},
     "output_type": "display_data"
    }
   ],
   "source": [
    "print('Count of Unique Lables: ', train.label.nunique())\n",
    "print('Unique labels: ', train['label'].unique())\n",
    "\n",
    "ax = train['label'].value_counts().plot(kind='bar', figsize=(6,6))\n",
    "fig = ax.get_figure()\n",
    "ax.set_title(\"Digit Recognizer Counts\")\n",
    "ax.set_xlabel('label')\n",
    "ax.set_ylabel('Value Counts');"
   ]
  },
  {
   "cell_type": "code",
   "execution_count": 12,
   "id": "a857040e",
   "metadata": {},
   "outputs": [
    {
     "name": "stdout",
     "output_type": "stream",
     "text": [
      "Number of 1: 4684\n",
      "Number of 5: 3795\n"
     ]
    }
   ],
   "source": [
    "print(\"Number of 1: {}\".format(len(train[train['label'] == 1])))\n",
    "print(\"Number of 5: {}\".format(len(train[train['label'] == 5])))"
   ]
  },
  {
   "cell_type": "markdown",
   "id": "222ee800",
   "metadata": {},
   "source": [
    "Data Summary:\n",
    "\n",
    "The training data set, train, has 785 columns and 42,000 rows. \n",
    "There are no missing data. \n",
    "From the data profile on Kaggle, the data set, train, contains gray-scale images of hand-drawn digits, from zero through nine. \n",
    "The first column, called \"label\", is the digit that was drawn by the user. The rest of the columns contain the pixel-values of the associated image. A value of \"0\" represents a white image. a value of \"1\" represents a black image. The data set is relatively balanced for the column, \"label\"\n"
   ]
  },
  {
   "cell_type": "markdown",
   "id": "62d70701",
   "metadata": {},
   "source": [
    "#### Explore test data"
   ]
  },
  {
   "cell_type": "code",
   "execution_count": 13,
   "id": "391099b5",
   "metadata": {},
   "outputs": [
    {
     "name": "stdout",
     "output_type": "stream",
     "text": [
      "test shape: (28000, 784)\n"
     ]
    },
    {
     "data": {
      "text/html": [
       "<div>\n",
       "<style scoped>\n",
       "    .dataframe tbody tr th:only-of-type {\n",
       "        vertical-align: middle;\n",
       "    }\n",
       "\n",
       "    .dataframe tbody tr th {\n",
       "        vertical-align: top;\n",
       "    }\n",
       "\n",
       "    .dataframe thead th {\n",
       "        text-align: right;\n",
       "    }\n",
       "</style>\n",
       "<table border=\"1\" class=\"dataframe\">\n",
       "  <thead>\n",
       "    <tr style=\"text-align: right;\">\n",
       "      <th></th>\n",
       "      <th>pixel0</th>\n",
       "      <th>pixel1</th>\n",
       "      <th>pixel2</th>\n",
       "      <th>pixel3</th>\n",
       "      <th>pixel4</th>\n",
       "      <th>pixel5</th>\n",
       "      <th>pixel6</th>\n",
       "      <th>pixel7</th>\n",
       "      <th>pixel8</th>\n",
       "      <th>pixel9</th>\n",
       "      <th>...</th>\n",
       "      <th>pixel774</th>\n",
       "      <th>pixel775</th>\n",
       "      <th>pixel776</th>\n",
       "      <th>pixel777</th>\n",
       "      <th>pixel778</th>\n",
       "      <th>pixel779</th>\n",
       "      <th>pixel780</th>\n",
       "      <th>pixel781</th>\n",
       "      <th>pixel782</th>\n",
       "      <th>pixel783</th>\n",
       "    </tr>\n",
       "  </thead>\n",
       "  <tbody>\n",
       "    <tr>\n",
       "      <th>0</th>\n",
       "      <td>0</td>\n",
       "      <td>0</td>\n",
       "      <td>0</td>\n",
       "      <td>0</td>\n",
       "      <td>0</td>\n",
       "      <td>0</td>\n",
       "      <td>0</td>\n",
       "      <td>0</td>\n",
       "      <td>0</td>\n",
       "      <td>0</td>\n",
       "      <td>...</td>\n",
       "      <td>0</td>\n",
       "      <td>0</td>\n",
       "      <td>0</td>\n",
       "      <td>0</td>\n",
       "      <td>0</td>\n",
       "      <td>0</td>\n",
       "      <td>0</td>\n",
       "      <td>0</td>\n",
       "      <td>0</td>\n",
       "      <td>0</td>\n",
       "    </tr>\n",
       "    <tr>\n",
       "      <th>1</th>\n",
       "      <td>0</td>\n",
       "      <td>0</td>\n",
       "      <td>0</td>\n",
       "      <td>0</td>\n",
       "      <td>0</td>\n",
       "      <td>0</td>\n",
       "      <td>0</td>\n",
       "      <td>0</td>\n",
       "      <td>0</td>\n",
       "      <td>0</td>\n",
       "      <td>...</td>\n",
       "      <td>0</td>\n",
       "      <td>0</td>\n",
       "      <td>0</td>\n",
       "      <td>0</td>\n",
       "      <td>0</td>\n",
       "      <td>0</td>\n",
       "      <td>0</td>\n",
       "      <td>0</td>\n",
       "      <td>0</td>\n",
       "      <td>0</td>\n",
       "    </tr>\n",
       "    <tr>\n",
       "      <th>2</th>\n",
       "      <td>0</td>\n",
       "      <td>0</td>\n",
       "      <td>0</td>\n",
       "      <td>0</td>\n",
       "      <td>0</td>\n",
       "      <td>0</td>\n",
       "      <td>0</td>\n",
       "      <td>0</td>\n",
       "      <td>0</td>\n",
       "      <td>0</td>\n",
       "      <td>...</td>\n",
       "      <td>0</td>\n",
       "      <td>0</td>\n",
       "      <td>0</td>\n",
       "      <td>0</td>\n",
       "      <td>0</td>\n",
       "      <td>0</td>\n",
       "      <td>0</td>\n",
       "      <td>0</td>\n",
       "      <td>0</td>\n",
       "      <td>0</td>\n",
       "    </tr>\n",
       "    <tr>\n",
       "      <th>3</th>\n",
       "      <td>0</td>\n",
       "      <td>0</td>\n",
       "      <td>0</td>\n",
       "      <td>0</td>\n",
       "      <td>0</td>\n",
       "      <td>0</td>\n",
       "      <td>0</td>\n",
       "      <td>0</td>\n",
       "      <td>0</td>\n",
       "      <td>0</td>\n",
       "      <td>...</td>\n",
       "      <td>0</td>\n",
       "      <td>0</td>\n",
       "      <td>0</td>\n",
       "      <td>0</td>\n",
       "      <td>0</td>\n",
       "      <td>0</td>\n",
       "      <td>0</td>\n",
       "      <td>0</td>\n",
       "      <td>0</td>\n",
       "      <td>0</td>\n",
       "    </tr>\n",
       "    <tr>\n",
       "      <th>4</th>\n",
       "      <td>0</td>\n",
       "      <td>0</td>\n",
       "      <td>0</td>\n",
       "      <td>0</td>\n",
       "      <td>0</td>\n",
       "      <td>0</td>\n",
       "      <td>0</td>\n",
       "      <td>0</td>\n",
       "      <td>0</td>\n",
       "      <td>0</td>\n",
       "      <td>...</td>\n",
       "      <td>0</td>\n",
       "      <td>0</td>\n",
       "      <td>0</td>\n",
       "      <td>0</td>\n",
       "      <td>0</td>\n",
       "      <td>0</td>\n",
       "      <td>0</td>\n",
       "      <td>0</td>\n",
       "      <td>0</td>\n",
       "      <td>0</td>\n",
       "    </tr>\n",
       "  </tbody>\n",
       "</table>\n",
       "<p>5 rows × 784 columns</p>\n",
       "</div>"
      ],
      "text/plain": [
       "   pixel0  pixel1  pixel2  pixel3  pixel4  pixel5  pixel6  pixel7  pixel8  \\\n",
       "0       0       0       0       0       0       0       0       0       0   \n",
       "1       0       0       0       0       0       0       0       0       0   \n",
       "2       0       0       0       0       0       0       0       0       0   \n",
       "3       0       0       0       0       0       0       0       0       0   \n",
       "4       0       0       0       0       0       0       0       0       0   \n",
       "\n",
       "   pixel9  ...  pixel774  pixel775  pixel776  pixel777  pixel778  pixel779  \\\n",
       "0       0  ...         0         0         0         0         0         0   \n",
       "1       0  ...         0         0         0         0         0         0   \n",
       "2       0  ...         0         0         0         0         0         0   \n",
       "3       0  ...         0         0         0         0         0         0   \n",
       "4       0  ...         0         0         0         0         0         0   \n",
       "\n",
       "   pixel780  pixel781  pixel782  pixel783  \n",
       "0         0         0         0         0  \n",
       "1         0         0         0         0  \n",
       "2         0         0         0         0  \n",
       "3         0         0         0         0  \n",
       "4         0         0         0         0  \n",
       "\n",
       "[5 rows x 784 columns]"
      ]
     },
     "execution_count": 13,
     "metadata": {},
     "output_type": "execute_result"
    }
   ],
   "source": [
    "print(\"test shape:\", test.shape)\n",
    "test.head()"
   ]
  },
  {
   "cell_type": "code",
   "execution_count": 14,
   "id": "195cb0ba",
   "metadata": {},
   "outputs": [
    {
     "data": {
      "text/plain": [
       "pixel0      0\n",
       "pixel1      0\n",
       "pixel2      0\n",
       "pixel3      0\n",
       "pixel4      0\n",
       "           ..\n",
       "pixel779    0\n",
       "pixel780    0\n",
       "pixel781    0\n",
       "pixel782    0\n",
       "pixel783    0\n",
       "Length: 784, dtype: int64"
      ]
     },
     "execution_count": 14,
     "metadata": {},
     "output_type": "execute_result"
    }
   ],
   "source": [
    "#missing data\n",
    "test.isna().sum()"
   ]
  },
  {
   "cell_type": "markdown",
   "id": "c8758e50",
   "metadata": {},
   "source": [
    "The test data set, test, has 28000 rows and 784 columns. There are no missing data in test.\n",
    "\n",
    "Train & test data are categorical. They need to be preprocessed for machine learning models"
   ]
  },
  {
   "cell_type": "markdown",
   "id": "a0321245",
   "metadata": {},
   "source": [
    "### Preprocess data"
   ]
  },
  {
   "cell_type": "code",
   "execution_count": 20,
   "id": "45a83598",
   "metadata": {},
   "outputs": [
    {
     "name": "stdout",
     "output_type": "stream",
     "text": [
      "y_train.shape:  (42000,)\n",
      "x_train.shape:  (42000, 784)\n"
     ]
    }
   ],
   "source": [
    "#create target variable, y_train, and feature data, x_train\n",
    "y_train = train.label\n",
    "print('y_train.shape: ', y_train.shape)\n",
    "x_train = train.drop(columns='label')\n",
    "print('x_train.shape: ', x_train.shape)"
   ]
  },
  {
   "cell_type": "code",
   "execution_count": 22,
   "id": "e59ab34e",
   "metadata": {},
   "outputs": [
    {
     "name": "stdout",
     "output_type": "stream",
     "text": [
      "(42000, 28, 28)\n",
      "(28000, 784)\n"
     ]
    }
   ],
   "source": [
    "#Reshape data to single channel \n",
    "#From Kaggle: Each image is 28 pixels in height and 28 pixels in width, for a total of 784 pixels in total \n",
    "#Normalize pixel values to 0-1 range #From Kaggle: Each pixel-value is an integer between 0 and 255, inclusive.\n",
    "x_train=x_train.values.reshape(42000,28,28)\n",
    "x_train=x_train/255\n",
    "print(x_train.shape)\n",
    "test=test/255\n",
    "print(test.shape)"
   ]
  },
  {
   "cell_type": "code",
   "execution_count": 24,
   "id": "b5de4f46",
   "metadata": {},
   "outputs": [
    {
     "data": {
      "image/png": "[encoded data removed]",
      "text/plain": [
       "<Figure size 750x400 with 10 Axes>"
      ]
     },
     "metadata": {},
     "output_type": "display_data"
    },
    {
     "name": "stdout",
     "output_type": "stream",
     "text": [
      "x_train.shape:  (42000, 784)\n"
     ]
    }
   ],
   "source": [
    "# see images\n",
    "num_row = 2\n",
    "num_col = 5# plot images\n",
    "fig, axes = plt.subplots(num_row, num_col, figsize=(1.5*num_col,2*num_row))\n",
    "for i in range(10):\n",
    "    ax = axes[i//num_col, i%num_col]\n",
    "    ax.imshow(x_train[i], cmap='gray')\n",
    "    ax.set_title('Label: {}'.format(y_train[i]))\n",
    "plt.tight_layout()\n",
    "plt.show()\n",
    "\n",
    "x_train=x_train.reshape(42000,28*28)\n",
    "print('x_train.shape: ', x_train.shape)"
   ]
  },
  {
   "cell_type": "markdown",
   "id": "f08e1a24",
   "metadata": {},
   "source": [
    "x_train, y_train and test are flat files\n",
    "\n",
    "Kaggle defines data set:\n",
    "    \n",
    "\"Each image is 28 pixels in height and 28 pixels in width, for a total of 784 pixels in total."
   ]
  },
  {
   "cell_type": "markdown",
   "id": "e54d303b",
   "metadata": {},
   "source": [
    "#### Train, Val Split"
   ]
  },
  {
   "cell_type": "code",
   "execution_count": 25,
   "id": "adfd9269",
   "metadata": {},
   "outputs": [
    {
     "name": "stdout",
     "output_type": "stream",
     "text": [
      "x_train shape (33600, 784)\n",
      "x_val shape (8400, 784)\n",
      "y_train shape (33600,)\n",
      "y_val shape (8400,)\n"
     ]
    }
   ],
   "source": [
    "#train, val set split\n",
    "x_train, x_val, y_train, y_val = train_test_split(x_train, y_train, test_size = 0.2, random_state=1234)\n",
    "print(\"x_train shape\",x_train.shape)\n",
    "print(\"x_val shape\",x_val.shape)\n",
    "print(\"y_train shape\",y_train.shape)\n",
    "print(\"y_val shape\",y_val.shape)"
   ]
  },
  {
   "cell_type": "markdown",
   "id": "2267166d",
   "metadata": {},
   "source": [
    "### Model Building\n",
    "\n",
    "#### Build a simple neural network having one hidden layer"
   ]
  },
  {
   "cell_type": "code",
   "execution_count": 30,
   "id": "9e7ff484",
   "metadata": {},
   "outputs": [],
   "source": [
    "model = Sequential([\n",
    "    Dense(784, activation='relu'),\n",
    "    Dense(128, activation='relu'),\n",
    "    Dense(10, activation='softmax')\n",
    " ])\n",
    "# compile model\n",
    "model.compile(optimizer='adam',loss='sparse_categorical_crossentropy',metrics=['accuracy'])"
   ]
  },
  {
   "cell_type": "code",
   "execution_count": 35,
   "id": "adbc083a",
   "metadata": {},
   "outputs": [
    {
     "name": "stdout",
     "output_type": "stream",
     "text": [
      "Epoch 1/500\n",
      "53/53 [==============================] - 7s 97ms/step - loss: 0.0045 - accuracy: 0.9987 - val_loss: 0.1432 - val_accuracy: 0.9705\n",
      "Epoch 2/500\n",
      "53/53 [==============================] - 6s 114ms/step - loss: 0.0097 - accuracy: 0.9967 - val_loss: 0.1449 - val_accuracy: 0.9696\n",
      "Epoch 3/500\n",
      "53/53 [==============================] - 6s 121ms/step - loss: 0.0064 - accuracy: 0.9980 - val_loss: 0.1256 - val_accuracy: 0.9726\n",
      "Epoch 4/500\n",
      "53/53 [==============================] - 6s 108ms/step - loss: 0.0031 - accuracy: 0.9994 - val_loss: 0.1264 - val_accuracy: 0.9735\n",
      "Epoch 5/500\n",
      "53/53 [==============================] - 5s 103ms/step - loss: 0.0014 - accuracy: 0.9997 - val_loss: 0.1213 - val_accuracy: 0.9765\n",
      "Epoch 6/500\n",
      "53/53 [==============================] - 6s 104ms/step - loss: 0.0010 - accuracy: 0.9997 - val_loss: 0.1200 - val_accuracy: 0.9763\n",
      "Epoch 7/500\n",
      "53/53 [==============================] - 6s 115ms/step - loss: 4.6596e-04 - accuracy: 1.0000 - val_loss: 0.1196 - val_accuracy: 0.9759\n",
      "Epoch 8/500\n",
      "53/53 [==============================] - 6s 119ms/step - loss: 1.4361e-04 - accuracy: 1.0000 - val_loss: 0.1159 - val_accuracy: 0.9762\n",
      "Epoch 9/500\n",
      "53/53 [==============================] - 7s 130ms/step - loss: 1.0283e-04 - accuracy: 1.0000 - val_loss: 0.1162 - val_accuracy: 0.9765\n",
      "Epoch 10/500\n",
      "53/53 [==============================] - 8s 146ms/step - loss: 8.7521e-05 - accuracy: 1.0000 - val_loss: 0.1167 - val_accuracy: 0.9763\n",
      "Epoch 11/500\n",
      "53/53 [==============================] - 7s 140ms/step - loss: 7.6225e-05 - accuracy: 1.0000 - val_loss: 0.1178 - val_accuracy: 0.9762\n",
      "Epoch 12/500\n",
      "53/53 [==============================] - 9s 164ms/step - loss: 6.8063e-05 - accuracy: 1.0000 - val_loss: 0.1185 - val_accuracy: 0.9766\n",
      "Epoch 13/500\n",
      "53/53 [==============================] - 6s 107ms/step - loss: 6.1984e-05 - accuracy: 1.0000 - val_loss: 0.1191 - val_accuracy: 0.9768\n",
      "Epoch 14/500\n",
      "53/53 [==============================] - 6s 109ms/step - loss: 5.5806e-05 - accuracy: 1.0000 - val_loss: 0.1202 - val_accuracy: 0.9768\n",
      "Epoch 15/500\n",
      "53/53 [==============================] - 7s 134ms/step - loss: 5.1488e-05 - accuracy: 1.0000 - val_loss: 0.1211 - val_accuracy: 0.9766\n",
      "Epoch 16/500\n",
      "53/53 [==============================] - 8s 150ms/step - loss: 4.7447e-05 - accuracy: 1.0000 - val_loss: 0.1216 - val_accuracy: 0.9768\n",
      "Epoch 17/500\n",
      "53/53 [==============================] - 9s 160ms/step - loss: 4.3425e-05 - accuracy: 1.0000 - val_loss: 0.1229 - val_accuracy: 0.9772\n",
      "Epoch 18/500\n",
      "53/53 [==============================] - 7s 130ms/step - loss: 4.0488e-05 - accuracy: 1.0000 - val_loss: 0.1234 - val_accuracy: 0.9768\n",
      "Epoch 19/500\n",
      "53/53 [==============================] - 7s 139ms/step - loss: 3.7607e-05 - accuracy: 1.0000 - val_loss: 0.1242 - val_accuracy: 0.9772\n",
      "Epoch 20/500\n",
      "53/53 [==============================] - 8s 143ms/step - loss: 3.4934e-05 - accuracy: 1.0000 - val_loss: 0.1251 - val_accuracy: 0.9772\n",
      "Epoch 21/500\n",
      "53/53 [==============================] - 7s 130ms/step - loss: 3.2702e-05 - accuracy: 1.0000 - val_loss: 0.1258 - val_accuracy: 0.9769\n",
      "Epoch 22/500\n",
      "53/53 [==============================] - 6s 112ms/step - loss: 3.0634e-05 - accuracy: 1.0000 - val_loss: 0.1263 - val_accuracy: 0.9768\n",
      "Epoch 23/500\n",
      "53/53 [==============================] - 6s 114ms/step - loss: 2.8713e-05 - accuracy: 1.0000 - val_loss: 0.1268 - val_accuracy: 0.9766\n",
      "Epoch 24/500\n",
      "53/53 [==============================] - 6s 121ms/step - loss: 2.7024e-05 - accuracy: 1.0000 - val_loss: 0.1273 - val_accuracy: 0.9772\n",
      "Epoch 25/500\n",
      "53/53 [==============================] - 6s 114ms/step - loss: 2.5378e-05 - accuracy: 1.0000 - val_loss: 0.1282 - val_accuracy: 0.9766\n",
      "Epoch 26/500\n",
      "53/53 [==============================] - 6s 109ms/step - loss: 2.4032e-05 - accuracy: 1.0000 - val_loss: 0.1286 - val_accuracy: 0.9769\n",
      "Epoch 27/500\n",
      "53/53 [==============================] - 6s 109ms/step - loss: 2.2812e-05 - accuracy: 1.0000 - val_loss: 0.1291 - val_accuracy: 0.9769\n",
      "Epoch 28/500\n",
      "53/53 [==============================] - 6s 117ms/step - loss: 2.1462e-05 - accuracy: 1.0000 - val_loss: 0.1297 - val_accuracy: 0.9766\n",
      "Epoch 29/500\n",
      "53/53 [==============================] - 7s 139ms/step - loss: 2.0385e-05 - accuracy: 1.0000 - val_loss: 0.1303 - val_accuracy: 0.9766\n",
      "Epoch 30/500\n",
      "53/53 [==============================] - 7s 126ms/step - loss: 1.9274e-05 - accuracy: 1.0000 - val_loss: 0.1306 - val_accuracy: 0.9769\n",
      "Epoch 31/500\n",
      "53/53 [==============================] - 6s 120ms/step - loss: 1.8422e-05 - accuracy: 1.0000 - val_loss: 0.1312 - val_accuracy: 0.9768\n",
      "Epoch 32/500\n",
      "53/53 [==============================] - 6s 112ms/step - loss: 1.7426e-05 - accuracy: 1.0000 - val_loss: 0.1315 - val_accuracy: 0.9768\n",
      "Epoch 33/500\n",
      "53/53 [==============================] - 6s 120ms/step - loss: 1.6668e-05 - accuracy: 1.0000 - val_loss: 0.1322 - val_accuracy: 0.9766\n",
      "Epoch 34/500\n",
      "53/53 [==============================] - 7s 138ms/step - loss: 1.5842e-05 - accuracy: 1.0000 - val_loss: 0.1324 - val_accuracy: 0.9766\n",
      "Epoch 35/500\n",
      "53/53 [==============================] - 7s 125ms/step - loss: 1.5138e-05 - accuracy: 1.0000 - val_loss: 0.1330 - val_accuracy: 0.9769\n",
      "Epoch 36/500\n",
      "53/53 [==============================] - 7s 138ms/step - loss: 1.4400e-05 - accuracy: 1.0000 - val_loss: 0.1334 - val_accuracy: 0.9766\n",
      "Epoch 37/500\n",
      "53/53 [==============================] - 7s 122ms/step - loss: 1.3790e-05 - accuracy: 1.0000 - val_loss: 0.1339 - val_accuracy: 0.9769\n",
      "Epoch 38/500\n",
      "53/53 [==============================] - 7s 124ms/step - loss: 1.3194e-05 - accuracy: 1.0000 - val_loss: 0.1344 - val_accuracy: 0.9769\n",
      "Epoch 39/500\n",
      "53/53 [==============================] - 6s 114ms/step - loss: 1.2600e-05 - accuracy: 1.0000 - val_loss: 0.1348 - val_accuracy: 0.9769\n",
      "Epoch 40/500\n",
      "53/53 [==============================] - 8s 156ms/step - loss: 1.2103e-05 - accuracy: 1.0000 - val_loss: 0.1354 - val_accuracy: 0.9768\n",
      "Epoch 41/500\n",
      "53/53 [==============================] - 9s 162ms/step - loss: 1.1633e-05 - accuracy: 1.0000 - val_loss: 0.1357 - val_accuracy: 0.9768\n",
      "Epoch 42/500\n",
      "53/53 [==============================] - 8s 147ms/step - loss: 1.1108e-05 - accuracy: 1.0000 - val_loss: 0.1359 - val_accuracy: 0.9772\n",
      "Epoch 43/500\n",
      "53/53 [==============================] - 8s 145ms/step - loss: 1.0625e-05 - accuracy: 1.0000 - val_loss: 0.1364 - val_accuracy: 0.9771\n",
      "Epoch 44/500\n",
      "53/53 [==============================] - 7s 127ms/step - loss: 1.0222e-05 - accuracy: 1.0000 - val_loss: 0.1368 - val_accuracy: 0.9771\n",
      "Epoch 45/500\n",
      "53/53 [==============================] - 6s 106ms/step - loss: 9.8132e-06 - accuracy: 1.0000 - val_loss: 0.1372 - val_accuracy: 0.9769\n",
      "Epoch 46/500\n",
      "53/53 [==============================] - 5s 103ms/step - loss: 9.4284e-06 - accuracy: 1.0000 - val_loss: 0.1377 - val_accuracy: 0.9771\n",
      "Epoch 47/500\n",
      "53/53 [==============================] - 6s 113ms/step - loss: 9.0775e-06 - accuracy: 1.0000 - val_loss: 0.1380 - val_accuracy: 0.9771\n",
      "Epoch 48/500\n",
      "53/53 [==============================] - 7s 123ms/step - loss: 8.8061e-06 - accuracy: 1.0000 - val_loss: 0.1385 - val_accuracy: 0.9771\n",
      "Epoch 49/500\n",
      "53/53 [==============================] - 9s 167ms/step - loss: 8.4243e-06 - accuracy: 1.0000 - val_loss: 0.1388 - val_accuracy: 0.9772\n",
      "Epoch 50/500\n",
      "53/53 [==============================] - 6s 120ms/step - loss: 8.1286e-06 - accuracy: 1.0000 - val_loss: 0.1392 - val_accuracy: 0.9775\n",
      "Epoch 51/500\n",
      "53/53 [==============================] - 7s 130ms/step - loss: 7.8053e-06 - accuracy: 1.0000 - val_loss: 0.1395 - val_accuracy: 0.9771\n",
      "Epoch 52/500\n",
      "53/53 [==============================] - 6s 122ms/step - loss: 7.5280e-06 - accuracy: 1.0000 - val_loss: 0.1399 - val_accuracy: 0.9771\n",
      "Epoch 53/500\n",
      "53/53 [==============================] - 6s 110ms/step - loss: 7.2856e-06 - accuracy: 1.0000 - val_loss: 0.1401 - val_accuracy: 0.9772\n",
      "Epoch 54/500\n",
      "53/53 [==============================] - 6s 120ms/step - loss: 6.9805e-06 - accuracy: 1.0000 - val_loss: 0.1404 - val_accuracy: 0.9771\n",
      "Epoch 55/500\n",
      "53/53 [==============================] - 7s 132ms/step - loss: 6.7643e-06 - accuracy: 1.0000 - val_loss: 0.1410 - val_accuracy: 0.9772\n",
      "Epoch 56/500\n"
     ]
    },
    {
     "name": "stdout",
     "output_type": "stream",
     "text": [
      "53/53 [==============================] - 7s 135ms/step - loss: 6.5037e-06 - accuracy: 1.0000 - val_loss: 0.1413 - val_accuracy: 0.9775\n",
      "Epoch 57/500\n",
      "53/53 [==============================] - 6s 118ms/step - loss: 6.2995e-06 - accuracy: 1.0000 - val_loss: 0.1415 - val_accuracy: 0.9775\n",
      "Epoch 58/500\n",
      "53/53 [==============================] - 6s 110ms/step - loss: 6.0770e-06 - accuracy: 1.0000 - val_loss: 0.1420 - val_accuracy: 0.9766\n",
      "Epoch 59/500\n",
      "53/53 [==============================] - 6s 117ms/step - loss: 5.8835e-06 - accuracy: 1.0000 - val_loss: 0.1423 - val_accuracy: 0.9775\n",
      "Epoch 60/500\n",
      "53/53 [==============================] - 6s 116ms/step - loss: 5.6573e-06 - accuracy: 1.0000 - val_loss: 0.1427 - val_accuracy: 0.9775\n",
      "Epoch 61/500\n",
      "53/53 [==============================] - 6s 117ms/step - loss: 5.4862e-06 - accuracy: 1.0000 - val_loss: 0.1429 - val_accuracy: 0.9772\n",
      "Epoch 62/500\n",
      "53/53 [==============================] - 6s 116ms/step - loss: 5.3087e-06 - accuracy: 1.0000 - val_loss: 0.1434 - val_accuracy: 0.9775\n",
      "Epoch 63/500\n",
      "53/53 [==============================] - 5s 100ms/step - loss: 5.1306e-06 - accuracy: 1.0000 - val_loss: 0.1440 - val_accuracy: 0.9772\n",
      "Epoch 64/500\n",
      "53/53 [==============================] - 6s 120ms/step - loss: 4.9546e-06 - accuracy: 1.0000 - val_loss: 0.1439 - val_accuracy: 0.9771\n",
      "Epoch 65/500\n",
      "53/53 [==============================] - 6s 111ms/step - loss: 4.7923e-06 - accuracy: 1.0000 - val_loss: 0.1444 - val_accuracy: 0.9775\n",
      "Epoch 66/500\n",
      "53/53 [==============================] - 6s 119ms/step - loss: 4.6687e-06 - accuracy: 1.0000 - val_loss: 0.1447 - val_accuracy: 0.9771\n",
      "Epoch 67/500\n",
      "53/53 [==============================] - 6s 115ms/step - loss: 4.5090e-06 - accuracy: 1.0000 - val_loss: 0.1449 - val_accuracy: 0.9775\n",
      "Epoch 68/500\n",
      "53/53 [==============================] - 6s 108ms/step - loss: 4.3498e-06 - accuracy: 1.0000 - val_loss: 0.1452 - val_accuracy: 0.9774\n",
      "Epoch 69/500\n",
      "53/53 [==============================] - 6s 110ms/step - loss: 4.2159e-06 - accuracy: 1.0000 - val_loss: 0.1457 - val_accuracy: 0.9775\n",
      "Epoch 70/500\n",
      "53/53 [==============================] - 5s 100ms/step - loss: 4.0645e-06 - accuracy: 1.0000 - val_loss: 0.1456 - val_accuracy: 0.9772\n",
      "Epoch 71/500\n",
      "53/53 [==============================] - 6s 104ms/step - loss: 3.9617e-06 - accuracy: 1.0000 - val_loss: 0.1459 - val_accuracy: 0.9777\n",
      "Epoch 72/500\n",
      "53/53 [==============================] - 6s 110ms/step - loss: 3.8439e-06 - accuracy: 1.0000 - val_loss: 0.1465 - val_accuracy: 0.9775\n",
      "Epoch 73/500\n",
      "53/53 [==============================] - 6s 113ms/step - loss: 3.7043e-06 - accuracy: 1.0000 - val_loss: 0.1468 - val_accuracy: 0.9772\n",
      "Epoch 74/500\n",
      "53/53 [==============================] - 5s 99ms/step - loss: 3.5932e-06 - accuracy: 1.0000 - val_loss: 0.1473 - val_accuracy: 0.9772\n",
      "Epoch 75/500\n",
      "53/53 [==============================] - 6s 113ms/step - loss: 3.4818e-06 - accuracy: 1.0000 - val_loss: 0.1470 - val_accuracy: 0.9774\n",
      "Epoch 76/500\n",
      "53/53 [==============================] - 5s 100ms/step - loss: 3.3747e-06 - accuracy: 1.0000 - val_loss: 0.1474 - val_accuracy: 0.9774\n",
      "Epoch 77/500\n",
      "53/53 [==============================] - 5s 102ms/step - loss: 3.2628e-06 - accuracy: 1.0000 - val_loss: 0.1478 - val_accuracy: 0.9772\n",
      "Epoch 78/500\n",
      "53/53 [==============================] - 5s 100ms/step - loss: 3.1709e-06 - accuracy: 1.0000 - val_loss: 0.1479 - val_accuracy: 0.9772\n",
      "Epoch 79/500\n",
      "53/53 [==============================] - 6s 109ms/step - loss: 3.0727e-06 - accuracy: 1.0000 - val_loss: 0.1487 - val_accuracy: 0.9772\n",
      "Epoch 80/500\n",
      "53/53 [==============================] - 6s 105ms/step - loss: 2.9819e-06 - accuracy: 1.0000 - val_loss: 0.1486 - val_accuracy: 0.9774\n",
      "Epoch 81/500\n",
      "53/53 [==============================] - 6s 112ms/step - loss: 2.8991e-06 - accuracy: 1.0000 - val_loss: 0.1491 - val_accuracy: 0.9772\n",
      "Epoch 82/500\n",
      "53/53 [==============================] - 6s 120ms/step - loss: 2.8141e-06 - accuracy: 1.0000 - val_loss: 0.1491 - val_accuracy: 0.9775\n",
      "Epoch 83/500\n",
      "53/53 [==============================] - 6s 113ms/step - loss: 2.7212e-06 - accuracy: 1.0000 - val_loss: 0.1492 - val_accuracy: 0.9777\n",
      "Epoch 84/500\n",
      "53/53 [==============================] - 7s 129ms/step - loss: 2.6459e-06 - accuracy: 1.0000 - val_loss: 0.1499 - val_accuracy: 0.9775\n",
      "Epoch 85/500\n",
      "53/53 [==============================] - 7s 129ms/step - loss: 2.5630e-06 - accuracy: 1.0000 - val_loss: 0.1501 - val_accuracy: 0.9771\n",
      "Epoch 86/500\n",
      "53/53 [==============================] - 7s 128ms/step - loss: 2.4833e-06 - accuracy: 1.0000 - val_loss: 0.1506 - val_accuracy: 0.9774\n",
      "Epoch 87/500\n",
      "53/53 [==============================] - 6s 105ms/step - loss: 2.4224e-06 - accuracy: 1.0000 - val_loss: 0.1508 - val_accuracy: 0.9775\n",
      "Epoch 88/500\n",
      "53/53 [==============================] - 5s 89ms/step - loss: 2.3468e-06 - accuracy: 1.0000 - val_loss: 0.1513 - val_accuracy: 0.9772\n",
      "Epoch 89/500\n",
      "53/53 [==============================] - 5s 97ms/step - loss: 2.2838e-06 - accuracy: 1.0000 - val_loss: 0.1510 - val_accuracy: 0.9774\n",
      "Epoch 90/500\n",
      "53/53 [==============================] - 5s 103ms/step - loss: 2.2196e-06 - accuracy: 1.0000 - val_loss: 0.1518 - val_accuracy: 0.9774\n",
      "Epoch 91/500\n",
      "53/53 [==============================] - 6s 105ms/step - loss: 2.1467e-06 - accuracy: 1.0000 - val_loss: 0.1518 - val_accuracy: 0.9771\n",
      "Epoch 92/500\n",
      "53/53 [==============================] - 6s 107ms/step - loss: 2.0928e-06 - accuracy: 1.0000 - val_loss: 0.1524 - val_accuracy: 0.9777\n",
      "Epoch 93/500\n",
      "53/53 [==============================] - 7s 126ms/step - loss: 2.0349e-06 - accuracy: 1.0000 - val_loss: 0.1524 - val_accuracy: 0.9772\n",
      "Epoch 94/500\n",
      "53/53 [==============================] - 6s 122ms/step - loss: 1.9637e-06 - accuracy: 1.0000 - val_loss: 0.1526 - val_accuracy: 0.9775\n",
      "Epoch 95/500\n",
      "53/53 [==============================] - 8s 142ms/step - loss: 1.9121e-06 - accuracy: 1.0000 - val_loss: 0.1531 - val_accuracy: 0.9778\n",
      "Epoch 96/500\n",
      "53/53 [==============================] - 7s 131ms/step - loss: 1.8632e-06 - accuracy: 1.0000 - val_loss: 0.1533 - val_accuracy: 0.9774\n",
      "Epoch 97/500\n",
      "53/53 [==============================] - 7s 129ms/step - loss: 1.8011e-06 - accuracy: 1.0000 - val_loss: 0.1535 - val_accuracy: 0.9772\n",
      "Epoch 98/500\n",
      "53/53 [==============================] - 6s 111ms/step - loss: 1.7531e-06 - accuracy: 1.0000 - val_loss: 0.1538 - val_accuracy: 0.9772\n",
      "Epoch 99/500\n",
      "53/53 [==============================] - 5s 97ms/step - loss: 1.6996e-06 - accuracy: 1.0000 - val_loss: 0.1539 - val_accuracy: 0.9775\n",
      "Epoch 100/500\n",
      "53/53 [==============================] - 6s 116ms/step - loss: 1.6514e-06 - accuracy: 1.0000 - val_loss: 0.1539 - val_accuracy: 0.9772\n",
      "Epoch 101/500\n",
      "53/53 [==============================] - 6s 119ms/step - loss: 1.6109e-06 - accuracy: 1.0000 - val_loss: 0.1544 - val_accuracy: 0.9772\n",
      "Epoch 102/500\n",
      "53/53 [==============================] - 7s 130ms/step - loss: 1.5696e-06 - accuracy: 1.0000 - val_loss: 0.1554 - val_accuracy: 0.9778\n",
      "Epoch 103/500\n",
      "53/53 [==============================] - 7s 130ms/step - loss: 1.5189e-06 - accuracy: 1.0000 - val_loss: 0.1551 - val_accuracy: 0.9775\n",
      "Epoch 104/500\n",
      "53/53 [==============================] - 6s 120ms/step - loss: 1.4759e-06 - accuracy: 1.0000 - val_loss: 0.1557 - val_accuracy: 0.9780\n",
      "Epoch 105/500\n",
      "53/53 [==============================] - 7s 135ms/step - loss: 1.4340e-06 - accuracy: 1.0000 - val_loss: 0.1560 - val_accuracy: 0.9775\n",
      "Epoch 106/500\n",
      "53/53 [==============================] - 7s 134ms/step - loss: 1.4082e-06 - accuracy: 1.0000 - val_loss: 0.1564 - val_accuracy: 0.9777\n",
      "Epoch 107/500\n",
      "53/53 [==============================] - 7s 124ms/step - loss: 1.3635e-06 - accuracy: 1.0000 - val_loss: 0.1566 - val_accuracy: 0.9780\n",
      "Epoch 108/500\n",
      "53/53 [==============================] - ETA: 0s - loss: 1.3228e-06 - accuracy: 1.0000Restoring model weights from the end of the best epoch: 8.\n",
      "53/53 [==============================] - 6s 113ms/step - loss: 1.3228e-06 - accuracy: 1.0000 - val_loss: 0.1568 - val_accuracy: 0.9777\n",
      "Epoch 108: early stopping\n"
     ]
    }
   ],
   "source": [
    "batch=512\n",
    "numepochs=500\n",
    "early = EarlyStopping(monitor='val_loss', mode='min', patience=100,restore_best_weights=True, verbose=2)\n",
    "\n",
    "model.compile(optimizer='adam',loss='sparse_categorical_crossentropy', metrics=['accuracy'])\n",
    "history = model.fit(x_train,y_train,validation_split=.2,shuffle=True, epochs=numepochs, \n",
    "                       batch_size=batch,callbacks=[early])"
   ]
  },
  {
   "cell_type": "code",
   "execution_count": 36,
   "id": "6a489414",
   "metadata": {},
   "outputs": [
    {
     "name": "stdout",
     "output_type": "stream",
     "text": [
      "263/263 [==============================] - 4s 14ms/step - loss: 0.1128 - accuracy: 0.9762\n",
      "Validation model loss: 0.11277089267969131\n",
      "Validation model accuracy:97.62\n"
     ]
    }
   ],
   "source": [
    "# evaluate the model\n",
    "loss, accuracy = model.evaluate(x_val, y_val)\n",
    "print('Validation model loss:', loss)\n",
    "print('Validation model accuracy:%.2f' % (accuracy*100))"
   ]
  },
  {
   "cell_type": "code",
   "execution_count": 37,
   "id": "ef22c377",
   "metadata": {},
   "outputs": [
    {
     "data": {
      "text/plain": [
       "Text(0.5, 1.0, 'Train - Accuracy')"
      ]
     },
     "execution_count": 37,
     "metadata": {},
     "output_type": "execute_result"
    },
    {
     "data": {
      "image/png": "[encoded data removed]",
      "text/plain": [
       "<Figure size 1000x1000 with 2 Axes>"
      ]
     },
     "metadata": {},
     "output_type": "display_data"
    }
   ],
   "source": [
    "#plot training accuracy vs. loss\n",
    "plt.figure(figsize=(10, 10))\n",
    "\n",
    "plt.subplot(2, 2, 1)\n",
    "plt.plot(history.history['loss'], label='Loss')\n",
    "plt.plot(history.history['val_loss'], label='Validation Loss')\n",
    "plt.legend()\n",
    "plt.title('Training - Loss Function')\n",
    "\n",
    "plt.subplot(2, 2, 2)\n",
    "plt.plot(history.history['accuracy'], label='Accuracy')\n",
    "plt.plot(history.history['val_accuracy'], label='Validation Accuracy')\n",
    "plt.legend()\n",
    "plt.title('Train - Accuracy')"
   ]
  },
  {
   "cell_type": "markdown",
   "id": "7dadc03c",
   "metadata": {},
   "source": [
    "The increase in the loss function on the validation data suggests that the model is overfitting. It is performing well on the training data but not on new data in the validation set."
   ]
  },
  {
   "cell_type": "code",
   "execution_count": 39,
   "id": "d705928e",
   "metadata": {},
   "outputs": [
    {
     "name": "stdout",
     "output_type": "stream",
     "text": [
      "263/263 [==============================] - 4s 14ms/step\n"
     ]
    },
    {
     "data": {
      "text/plain": [
       "8"
      ]
     },
     "execution_count": 39,
     "metadata": {},
     "output_type": "execute_result"
    }
   ],
   "source": [
    "# Make the predictions\n",
    "y_predicted = model.predict(x_val)\n",
    "# predicted image\n",
    "np.argmax(y_predicted[0])"
   ]
  },
  {
   "cell_type": "code",
   "execution_count": 40,
   "id": "2bdf480f",
   "metadata": {
    "scrolled": true
   },
   "outputs": [
    {
     "name": "stdout",
     "output_type": "stream",
     "text": [
      "263/263 [==============================] - 3s 9ms/step\n"
     ]
    },
    {
     "data": {
      "text/plain": [
       "Text(33.22222222222222, 0.5, 'Truth')"
      ]
     },
     "execution_count": 40,
     "metadata": {},
     "output_type": "execute_result"
    },
    {
     "data": {
      "image/png": "[encoded data removed]",
      "text/plain": [
       "<Figure size 500x300 with 2 Axes>"
      ]
     },
     "metadata": {},
     "output_type": "display_data"
    }
   ],
   "source": [
    "#using a confusion matrix for validation\n",
    "y_predicted = model.predict(x_val)\n",
    "y_predicted_labels = [np.argmax(i) for i in y_predicted]\n",
    "\n",
    "cm = tf.math.confusion_matrix(labels=y_val, predictions=y_predicted_labels)\n",
    "\n",
    "plt.figure(figsize = (5,3))\n",
    "sn.heatmap(cm, annot=True, fmt='d')\n",
    "plt.xlabel('Predicted')\n",
    "plt.ylabel('Truth')"
   ]
  },
  {
   "cell_type": "markdown",
   "id": "12c9ab14",
   "metadata": {},
   "source": [
    "###### The diagonal values in the above confusion matrix are correct predictions.\n",
    "\n",
    "The black cells show wrong predictions. \n",
    "\n",
    "For Example, 8 was correctly predicted as 8 766 times and incorrectly predicted as 5 9 times."
   ]
  },
  {
   "cell_type": "code",
   "execution_count": 41,
   "id": "98bc25e5",
   "metadata": {},
   "outputs": [
    {
     "name": "stdout",
     "output_type": "stream",
     "text": [
      "875/875 [==============================] - 11s 12ms/step\n"
     ]
    }
   ],
   "source": [
    "#Predicting on unknown data\n",
    "new_predictions = model.predict(test)"
   ]
  },
  {
   "cell_type": "code",
   "execution_count": 42,
   "id": "7663352e",
   "metadata": {},
   "outputs": [
    {
     "data": {
      "text/plain": [
       "(28000, 10)"
      ]
     },
     "execution_count": 42,
     "metadata": {},
     "output_type": "execute_result"
    }
   ],
   "source": [
    "new_predictions.shape"
   ]
  },
  {
   "cell_type": "code",
   "execution_count": 43,
   "id": "e20771ed",
   "metadata": {},
   "outputs": [
    {
     "data": {
      "image/png": "[encoded data removed]",
      "text/plain": [
       "<Figure size 500x400 with 1 Axes>"
      ]
     },
     "metadata": {},
     "output_type": "display_data"
    }
   ],
   "source": [
    "df = pd.DataFrame(new_predictions, columns = ['0','1','2','3','4','5','6','7','8','9'])\n",
    "df2 = df.sum(axis=0)\n",
    "\n",
    "# plot new_predictions\n",
    "df2.plot(x=df2[0], y=df2[1], kind=\"bar\", figsize=(5, 4))\n",
    "plt.title(\"Label Counts for new_predictions\")\n",
    "plt.xlabel(\"Labels\")\n",
    "plt.ylabel(\"Coounts\")\n",
    "plt.show()"
   ]
  }
 ],
 "metadata": {
  "kernelspec": {
   "display_name": "Python 3 (ipykernel)",
   "language": "python",
   "name": "python3"
  },
  "language_info": {
   "codemirror_mode": {
    "name": "ipython",
    "version": 3
   },
   "file_extension": ".py",
   "mimetype": "text/x-python",
   "name": "python",
   "nbconvert_exporter": "python",
   "pygments_lexer": "ipython3",
   "version": "3.11.0"
  }
 },
 "nbformat": 4,
 "nbformat_minor": 5
}
