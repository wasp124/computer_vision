{
 "cells": [
  {
   "cell_type": "markdown",
   "id": "e4867685",
   "metadata": {},
   "source": [
    "## Image Classification: Leaf Classification\n",
    "\n",
    "This notebook uses data from Kaggle's competition, Leaf Classification, to use binary leaf images and extracted features, including shape, margin & texture, to predict 99 species of plants. \n",
    "\n",
    "##### Dataset:\n",
    "per Kaggle -\n",
    "The dataset contains 1,584 images of leaf specimens (16 samples each of 99 species) which have been converted to binary black leaves against white backgrounds. Three sets of features are also provided per image: a shape contiguous descriptor, an interior texture histogram, and a ﬁne-scale margin histogram. For each feature, a 64-attribute vector is given per leaf sample.\n",
    "\n",
    "##### Objective:\n",
    "to predict the probability of a binary leaf image and extracted features belonging to each class species.\n",
    "\n",
    "##### Process:\n",
    "Various models will be compared. The best performing model will be used to make predictions on a test set. \n",
    "\n",
    "\n",
    "##### Steps:\n",
    "\n",
    "1. Import Libraries\n",
    "2. Download & Read Kaggle date set, leaf-classification\n",
    "3. Explore Data\n",
    "4. Build & Evaluate Models (Multiclass Logistic Regression, Multiclass Random Forest, KNearest Neighbors, Multiclass Gradient Boosting)\n",
    "5. Predict Test Set\n",
    "\n",
    "Data Source: https://www.kaggle.com/competitions/leaf-classification/data\n",
    "\n",
    "Citation:\n",
    "Julia Elliott, Meghan O'Connell, Will Cukierski. (2016). Leaf Classification. Kaggle. https://kaggle.com/competitions/leaf-classification"
   ]
  },
  {
   "cell_type": "markdown",
   "id": "ef09712d",
   "metadata": {},
   "source": [
    "### Import Libraries"
   ]
  },
  {
   "cell_type": "code",
   "execution_count": 41,
   "id": "b247932a",
   "metadata": {},
   "outputs": [],
   "source": [
    "#Data processing\n",
    "import numpy as np\n",
    "import pandas as pd\n",
    "from statistics import mean\n",
    "\n",
    "import os, glob, cv2, re\n",
    "#!pip install kaggle\n",
    "from kaggle.api.kaggle_api_extended import KaggleApi\n",
    "from zipfile import ZipFile\n",
    "\n",
    "import matplotlib.pyplot as plt\n",
    "from PIL import Image\n",
    "from collections import Counter\n",
    "\n",
    "#Modelling\n",
    "from sklearn.pipeline import Pipeline\n",
    "from sklearn.preprocessing import StandardScaler, LabelEncoder\n",
    "from sklearn.model_selection import train_test_split, RepeatedStratifiedKFold, GridSearchCV, RandomizedSearchCV\n",
    "from sklearn.linear_model import LogisticRegression\n",
    "from sklearn.ensemble import RandomForestClassifier, GradientBoostingClassifier\n",
    "from sklearn.neighbors import KNeighborsClassifier\n",
    "from scipy.stats import uniform as sp_randFloat\n",
    "from scipy.stats import loguniform\n",
    "from scipy.stats import randint as sp_randInt\n",
    "from sklearn.metrics import accuracy_score\n"
   ]
  },
  {
   "cell_type": "code",
   "execution_count": 2,
   "id": "822b38a9",
   "metadata": {},
   "outputs": [
    {
     "name": "stdout",
     "output_type": "stream",
     "text": [
      "mkdir: /Users/sherilyn/.kaggle: File exists\n"
     ]
    }
   ],
   "source": [
    "!mkdir ~/.kaggle\n",
    "!echo '{\"username\":\"sherylmichael\",\"key\":\"ee2137bd8d95cc0d1f29d42dc871a87d\"}' > ~/.kaggle/kaggle.json\n",
    "!chmod 600 ~/.kaggle/kaggle.json"
   ]
  },
  {
   "cell_type": "markdown",
   "id": "e3f402cd",
   "metadata": {},
   "source": [
    "### Download & Read Kaggle date set, dogs-vs-cats-redux-kernels-edition"
   ]
  },
  {
   "cell_type": "code",
   "execution_count": 13,
   "id": "c945fd7d",
   "metadata": {},
   "outputs": [],
   "source": [
    "#download Kaggle data set\n",
    "iskaggle = os.environ.get('KAGGLE_KERNEL_RUN_TYPE', '')\n",
    "\n",
    "api = KaggleApi()\n",
    "api.authenticate()\n",
    "\n",
    "api.competition_download_files('leaf-classification')"
   ]
  },
  {
   "cell_type": "code",
   "execution_count": 14,
   "id": "c35f0c6f",
   "metadata": {},
   "outputs": [],
   "source": [
    "zf = ZipFile('/Users/sherilyn/ds_jungle/computer_vision/classification/multiclass/leaf_classification/leaf-classification.zip')\n",
    "zf.extractall('/Users/sherilyn/ds_jungle/computer_vision/classification/multiclass/leaf_classification/data')\n",
    "zf.close()"
   ]
  },
  {
   "cell_type": "code",
   "execution_count": 17,
   "id": "5f3ada1c-3e79-44f8-a9b1-0b36ebd11ab8",
   "metadata": {},
   "outputs": [
    {
     "name": "stdout",
     "output_type": "stream",
     "text": [
      "Unzipping: /Users/sherilyn/ds_jungle/computer_vision/classification/multiclass/leaf_classification/data/images.zip\n",
      "Unzipping: /Users/sherilyn/ds_jungle/computer_vision/classification/multiclass/leaf_classification/data/test.csv.zip\n",
      "Unzipping: /Users/sherilyn/ds_jungle/computer_vision/classification/multiclass/leaf_classification/data/train.csv.zip\n",
      "Unzipping: /Users/sherilyn/ds_jungle/computer_vision/classification/multiclass/leaf_classification/data/sample_submission.csv.zip\n"
     ]
    }
   ],
   "source": [
    "files = glob.glob('/Users/sherilyn/ds_jungle/computer_vision/classification/multiclass/leaf_classification/data/*.zip')\n",
    "for file in files:\n",
    "    print('Unzipping:',file)\n",
    "    with ZipFile(file, 'r') as zip_ref:\n",
    "        zip_ref.extractall('/Users/sherilyn/ds_jungle/computer_vision/classification/multiclass/leaf_classification/data')"
   ]
  },
  {
   "cell_type": "code",
   "execution_count": 3,
   "id": "2f2c717d-4318-4c07-b5fd-fb14669ca8e6",
   "metadata": {},
   "outputs": [],
   "source": [
    "#create directory of images (list)\n",
    "train = pd.read_csv('/Users/sherilyn/ds_jungle/computer_vision/classification/multiclass/leaf_classification/data/train.csv')\n",
    "test = pd.read_csv('/Users/sherilyn/ds_jungle/computer_vision/classification/multiclass/leaf_classification/data/test.csv')"
   ]
  },
  {
   "cell_type": "code",
   "execution_count": 4,
   "id": "1149494e-0b8e-45d6-854c-5d7b6bb33dd2",
   "metadata": {},
   "outputs": [
    {
     "name": "stdout",
     "output_type": "stream",
     "text": [
      "train.shape:  (990, 194) test.shape:  (594, 193)\n",
      "train - num unique species:  99\n",
      "train.isnull().sum().sum():  0\n",
      "test.isnull().sum().sum():  0\n"
     ]
    }
   ],
   "source": [
    "print('train.shape: ', train.shape, 'test.shape: ', test.shape)\n",
    "print('train - num unique species: ',train['species'].nunique())\n",
    "print('train.isnull().sum().sum(): ', train.isnull().sum().sum())\n",
    "print('test.isnull().sum().sum(): ', test.isnull().sum().sum())"
   ]
  },
  {
   "cell_type": "code",
   "execution_count": 20,
   "id": "06d998e1-8bd0-4935-9ced-fd71da8e2d51",
   "metadata": {},
   "outputs": [
    {
     "name": "stdout",
     "output_type": "stream",
     "text": [
      "train.head(): \n",
      "    id                species   margin1   margin2   margin3   margin4  \\\n",
      "0   1            Acer_Opalus  0.007812  0.023438  0.023438  0.003906   \n",
      "1   2  Pterocarya_Stenoptera  0.005859  0.000000  0.031250  0.015625   \n",
      "2   3   Quercus_Hartwissiana  0.005859  0.009766  0.019531  0.007812   \n",
      "3   5        Tilia_Tomentosa  0.000000  0.003906  0.023438  0.005859   \n",
      "4   6     Quercus_Variabilis  0.005859  0.003906  0.048828  0.009766   \n",
      "\n",
      "    margin5   margin6   margin7  margin8  ...  texture55  texture56  \\\n",
      "0  0.011719  0.009766  0.027344      0.0  ...   0.007812   0.000000   \n",
      "1  0.025391  0.001953  0.019531      0.0  ...   0.000977   0.000000   \n",
      "2  0.003906  0.005859  0.068359      0.0  ...   0.154300   0.000000   \n",
      "3  0.021484  0.019531  0.023438      0.0  ...   0.000000   0.000977   \n",
      "4  0.013672  0.015625  0.005859      0.0  ...   0.096680   0.000000   \n",
      "\n",
      "   texture57  texture58  texture59  texture60  texture61  texture62  \\\n",
      "0   0.002930   0.002930   0.035156        0.0        0.0   0.004883   \n",
      "1   0.000000   0.000977   0.023438        0.0        0.0   0.000977   \n",
      "2   0.005859   0.000977   0.007812        0.0        0.0   0.000000   \n",
      "3   0.000000   0.000000   0.020508        0.0        0.0   0.017578   \n",
      "4   0.021484   0.000000   0.000000        0.0        0.0   0.000000   \n",
      "\n",
      "   texture63  texture64  \n",
      "0   0.000000   0.025391  \n",
      "1   0.039062   0.022461  \n",
      "2   0.020508   0.002930  \n",
      "3   0.000000   0.047852  \n",
      "4   0.000000   0.031250  \n",
      "\n",
      "[5 rows x 194 columns]\n",
      "test.head()): \n",
      "    id   margin1   margin2   margin3   margin4   margin5   margin6   margin7  \\\n",
      "0   4  0.019531  0.009766  0.078125  0.011719  0.003906  0.015625  0.005859   \n",
      "1   7  0.007812  0.005859  0.064453  0.009766  0.003906  0.013672  0.007812   \n",
      "2   9  0.000000  0.000000  0.001953  0.021484  0.041016  0.000000  0.023438   \n",
      "3  12  0.000000  0.000000  0.009766  0.011719  0.017578  0.000000  0.003906   \n",
      "4  13  0.001953  0.000000  0.015625  0.009766  0.039062  0.000000  0.009766   \n",
      "\n",
      "   margin8   margin9  ...  texture55  texture56  texture57  texture58  \\\n",
      "0      0.0  0.005859  ...   0.006836   0.000000   0.015625   0.000977   \n",
      "1      0.0  0.033203  ...   0.000000   0.000000   0.006836   0.001953   \n",
      "2      0.0  0.011719  ...   0.128910   0.000000   0.000977   0.000000   \n",
      "3      0.0  0.003906  ...   0.012695   0.015625   0.002930   0.036133   \n",
      "4      0.0  0.005859  ...   0.000000   0.042969   0.016602   0.010742   \n",
      "\n",
      "   texture59  texture60  texture61  texture62  texture63  texture64  \n",
      "0   0.015625        0.0        0.0   0.000000   0.003906   0.053711  \n",
      "1   0.013672        0.0        0.0   0.000977   0.037109   0.044922  \n",
      "2   0.000000        0.0        0.0   0.015625   0.000000   0.000000  \n",
      "3   0.013672        0.0        0.0   0.089844   0.000000   0.008789  \n",
      "4   0.041016        0.0        0.0   0.007812   0.009766   0.007812  \n",
      "\n",
      "[5 rows x 193 columns]\n"
     ]
    }
   ],
   "source": [
    "print('train.head(): \\n', train.head())\n",
    "print('test.head()): \\n', test.head())"
   ]
  },
  {
   "cell_type": "markdown",
   "id": "a6d9477c-5d8a-4220-be36-2bcb86c44483",
   "metadata": {},
   "source": [
    "The training set, train, has 990 binary leaf images and extracted features. train has an id column, a species column and 192 features used to predict 99 species of plants and no missing values.\n",
    "\n",
    "The test set, test, has 594 binary leafimages and extracyed features. test has 192 features and no missing values."
   ]
  },
  {
   "cell_type": "markdown",
   "id": "0b6a6de5-0e25-484d-be6e-148cf3c01284",
   "metadata": {},
   "source": [
    "### Explore Data\n",
    "\n",
    "#### Visualizing Random Images"
   ]
  },
  {
   "cell_type": "code",
   "execution_count": 171,
   "id": "3ee7b0fa-dae0-49a8-b1ec-23edd7a5e38c",
   "metadata": {},
   "outputs": [
    {
     "name": "stdout",
     "output_type": "stream",
     "text": [
      "['1097.jpg' '165.jpg' '599.jpg']\n"
     ]
    },
    {
     "data": {
      "image/png": "[encoded data removed]",
      "text/plain": [
       "<Figure size 640x480 with 1 Axes>"
      ]
     },
     "metadata": {},
     "output_type": "display_data"
    },
    {
     "data": {
      "image/png": "[encoded data removed]",
      "text/plain": [
       "<Figure size 640x480 with 1 Axes>"
      ]
     },
     "metadata": {},
     "output_type": "display_data"
    },
    {
     "data": {
      "image/png": "[encoded data removed]",
      "text/plain": [
       "<Figure size 640x480 with 1 Axes>"
      ]
     },
     "metadata": {},
     "output_type": "display_data"
    }
   ],
   "source": [
    "path = '/Users/sherilyn/ds_jungle/computer_vision/classification/multiclass/leaf_classification/data/images/'  \n",
    "images = os.listdir(path) \n",
    "random_images = np.random.choice(images, 3)\n",
    "print(random_images)\n",
    "\n",
    "for i in random_images:\n",
    "    image = Image.open(path + '/' + i) \n",
    "    plt.title('Image: ' + str(i))\n",
    "    plt.imshow(image)\n",
    "    plt.show()"
   ]
  },
  {
   "cell_type": "markdown",
   "id": "26f05903-1b33-4c6b-8351-094a1f0db159",
   "metadata": {},
   "source": [
    "#### Distribution of data"
   ]
  },
  {
   "cell_type": "code",
   "execution_count": 172,
   "id": "27c313dc-8a4e-4362-b042-3a9bbac4f35f",
   "metadata": {},
   "outputs": [
    {
     "data": {
      "text/plain": [
       "Counter({'Acer_Opalus': 10,\n",
       "         'Pterocarya_Stenoptera': 10,\n",
       "         'Quercus_Hartwissiana': 10,\n",
       "         'Tilia_Tomentosa': 10,\n",
       "         'Quercus_Variabilis': 10,\n",
       "         'Magnolia_Salicifolia': 10,\n",
       "         'Quercus_Canariensis': 10,\n",
       "         'Quercus_Rubra': 10,\n",
       "         'Quercus_Brantii': 10,\n",
       "         'Salix_Fragilis': 10,\n",
       "         'Zelkova_Serrata': 10,\n",
       "         'Betula_Austrosinensis': 10,\n",
       "         'Quercus_Pontica': 10,\n",
       "         'Quercus_Afares': 10,\n",
       "         'Quercus_Coccifera': 10,\n",
       "         'Fagus_Sylvatica': 10,\n",
       "         'Phildelphus': 10,\n",
       "         'Acer_Palmatum': 10,\n",
       "         'Quercus_Pubescens': 10,\n",
       "         'Populus_Adenopoda': 10,\n",
       "         'Quercus_Trojana': 10,\n",
       "         'Alnus_Sieboldiana': 10,\n",
       "         'Quercus_Ilex': 10,\n",
       "         'Arundinaria_Simonii': 10,\n",
       "         'Acer_Platanoids': 10,\n",
       "         'Quercus_Phillyraeoides': 10,\n",
       "         'Cornus_Chinensis': 10,\n",
       "         'Liriodendron_Tulipifera': 10,\n",
       "         'Cytisus_Battandieri': 10,\n",
       "         'Rhododendron_x_Russellianum': 10,\n",
       "         'Alnus_Rubra': 10,\n",
       "         'Eucalyptus_Glaucescens': 10,\n",
       "         'Cercis_Siliquastrum': 10,\n",
       "         'Cotinus_Coggygria': 10,\n",
       "         'Celtis_Koraiensis': 10,\n",
       "         'Quercus_Crassifolia': 10,\n",
       "         'Quercus_Kewensis': 10,\n",
       "         'Cornus_Controversa': 10,\n",
       "         'Quercus_Pyrenaica': 10,\n",
       "         'Callicarpa_Bodinieri': 10,\n",
       "         'Quercus_Alnifolia': 10,\n",
       "         'Acer_Saccharinum': 10,\n",
       "         'Prunus_X_Shmittii': 10,\n",
       "         'Prunus_Avium': 10,\n",
       "         'Quercus_Greggii': 10,\n",
       "         'Quercus_Suber': 10,\n",
       "         'Quercus_Dolicholepis': 10,\n",
       "         'Ilex_Cornuta': 10,\n",
       "         'Tilia_Oliveri': 10,\n",
       "         'Quercus_Semecarpifolia': 10,\n",
       "         'Quercus_Texana': 10,\n",
       "         'Ginkgo_Biloba': 10,\n",
       "         'Liquidambar_Styraciflua': 10,\n",
       "         'Quercus_Phellos': 10,\n",
       "         'Quercus_Palustris': 10,\n",
       "         'Alnus_Maximowiczii': 10,\n",
       "         'Quercus_Agrifolia': 10,\n",
       "         'Acer_Pictum': 10,\n",
       "         'Acer_Rufinerve': 10,\n",
       "         'Lithocarpus_Cleistocarpus': 10,\n",
       "         'Viburnum_x_Rhytidophylloides': 10,\n",
       "         'Ilex_Aquifolium': 10,\n",
       "         'Acer_Circinatum': 10,\n",
       "         'Quercus_Coccinea': 10,\n",
       "         'Quercus_Cerris': 10,\n",
       "         'Quercus_Chrysolepis': 10,\n",
       "         'Eucalyptus_Neglecta': 10,\n",
       "         'Tilia_Platyphyllos': 10,\n",
       "         'Alnus_Cordata': 10,\n",
       "         'Populus_Nigra': 10,\n",
       "         'Acer_Capillipes': 10,\n",
       "         'Magnolia_Heptapeta': 10,\n",
       "         'Acer_Mono': 10,\n",
       "         'Cornus_Macrophylla': 10,\n",
       "         'Crataegus_Monogyna': 10,\n",
       "         'Quercus_x_Turneri': 10,\n",
       "         'Quercus_Castaneifolia': 10,\n",
       "         'Lithocarpus_Edulis': 10,\n",
       "         'Populus_Grandidentata': 10,\n",
       "         'Acer_Rubrum': 10,\n",
       "         'Quercus_Imbricaria': 10,\n",
       "         'Eucalyptus_Urnigera': 10,\n",
       "         'Quercus_Crassipes': 10,\n",
       "         'Viburnum_Tinus': 10,\n",
       "         'Morus_Nigra': 10,\n",
       "         'Quercus_Vulcanica': 10,\n",
       "         'Alnus_Viridis': 10,\n",
       "         'Betula_Pendula': 10,\n",
       "         'Olea_Europaea': 10,\n",
       "         'Quercus_Ellipsoidalis': 10,\n",
       "         'Quercus_x_Hispanica': 10,\n",
       "         'Quercus_Shumardii': 10,\n",
       "         'Quercus_Rhysophylla': 10,\n",
       "         'Castanea_Sativa': 10,\n",
       "         'Ulmus_Bergmanniana': 10,\n",
       "         'Quercus_Nigra': 10,\n",
       "         'Salix_Intergra': 10,\n",
       "         'Quercus_Infectoria_sub': 10,\n",
       "         'Sorbus_Aria': 10})"
      ]
     },
     "execution_count": 172,
     "metadata": {},
     "output_type": "execute_result"
    }
   ],
   "source": [
    "Counter(train['species'])"
   ]
  },
  {
   "cell_type": "markdown",
   "id": "a7582928-c7b2-4546-b7a2-5ac8821fd5c9",
   "metadata": {},
   "source": [
    "train is evenly distributed across the 99 species classes. An imbalanced dataset is not a concern."
   ]
  },
  {
   "cell_type": "code",
   "execution_count": null,
   "id": "c947577d-19d7-44f4-917f-ec633bcb6569",
   "metadata": {},
   "outputs": [],
   "source": []
  },
  {
   "cell_type": "markdown",
   "id": "083a8731-7ff8-4656-b6b3-5620c1f254a6",
   "metadata": {},
   "source": [
    "### Preprocess Data\n",
    "\n",
    "train target data is categorical with 99 levels. LabelEncoder() will transform this data into numerical that can be read by ml algorithms.\n",
    "train data will be split 80:20 train:val and stratified by target data to ensure leaf classes are balanced in training and val data.\n",
    "\n",
    "To prevent data leakage from the testing to the training set and ensure that model validation subjects the testing data to the same conditions as the data used for the model training, feature data will be scaled after splitting 80:20, train:val. StandardScaler(), subtracting the mean from raw feature values to center them on 0.0 and divide by the standard deviation, will transform X_train to give the standard deviation of 1.0."
   ]
  },
  {
   "cell_type": "code",
   "execution_count": 5,
   "id": "39572d78-aef3-46b0-8061-67ae9358cdf9",
   "metadata": {},
   "outputs": [
    {
     "name": "stdout",
     "output_type": "stream",
     "text": [
      "y min_val = 0 y max_val = 98\n",
      "X_train.shape = (792, 192) y_train.shape = (792,)\n",
      "X_val.shape = (198, 192) y_val.shape = (198,)\n"
     ]
    }
   ],
   "source": [
    "#create X, y\n",
    "X = train.drop([\"id\", \"species\"], axis=1, inplace = False).values\n",
    "y = train.species\n",
    "\n",
    "#one hot encode y\n",
    "encoder = LabelEncoder()\n",
    "y = encoder.fit_transform(train[\"species\"].values)\n",
    "min_val = y.min()  \n",
    "max_val = y.max()  \n",
    "print(\"y min_val = {0}\".format(min_val), \"y max_val = {0}\".format(max_val) )  \n",
    "\n",
    "#stratify train, test split\n",
    "X_train, X_val, y_train, y_val = train_test_split(X, y, test_size = 0.2, random_state = 416, stratify=y)\n",
    "print(\"X_train.shape = {0}\".format(X_train.shape), \"y_train.shape = {0}\".format(y_train.shape))\n",
    "print(\"X_val.shape = {0}\".format(X_val.shape), \"y_val.shape = {0}\".format(y_val.shape))\n",
    "\n",
    "#scale feature training data\n",
    "scaler = StandardScaler()\n",
    "X_train = scaler.fit_transform(X_train)\n"
   ]
  },
  {
   "cell_type": "markdown",
   "id": "2267166d",
   "metadata": {},
   "source": [
    "### Build Models\n",
    "\n",
    "Multiclass classification uses a discrete probability distribution that covers situations where an event will have a categorical outcome, e.g. K in {1, 2, 3, …, K}, meaning that the model predicts the probability of an example belonging to each class label.\n",
    "\n",
    "3 Models to be Compared:\n",
    "1. Multiclass Logistic Regression: LogisticRegression()\n",
    "2. Multiclass Random Forest: RandomForestClassifier()\n",
    "3. KNearest Neighbor: KNearestNeighborClassifier()\n",
    "4. Gradient Boosting: GradientBoostingClassifier()\n",
    "\n",
    "Given that the classes are balanced, model performance will be evaluated using classification accuracy."
   ]
  },
  {
   "cell_type": "markdown",
   "id": "7633c61d-9bec-4197-9d54-1457b4ee9872",
   "metadata": {},
   "source": [
    "##### <b>Multiclass Logistic Regression, LogisticRegression()<b>\n",
    "\n",
    "The multinomial logistic regression model will be fit using cross-entropy loss and will predict the integer value for each integer encoded class label. \n",
    "\n",
    "##### <b>Random Forest, RandomForestClassifier()<b>\n",
    "\n",
    "##### <b>KNN Classifier, KNeighborClassifier()<b>\n",
    "\n",
    "##### <b>Gradient Boosting, GradientBoostingClassifier<b>"
   ]
  },
  {
   "cell_type": "markdown",
   "id": "0d334b86-5633-4268-9ff6-b88b9d4029f8",
   "metadata": {},
   "source": [
    "#### Classifier Code Check before Grid/RandomSearch"
   ]
  },
  {
   "cell_type": "code",
   "execution_count": 99,
   "id": "6bd75e92-d4de-47b2-8155-6498f5924796",
   "metadata": {},
   "outputs": [],
   "source": [
    "pipe_lr = Pipeline([('scaler', StandardScaler()), \n",
    "                    ('clf', LogisticRegression(multi_class='multinomial', solver='lbfgs', max_iter=500, random_state=416))])\n",
    "\n",
    "pipe_rf = Pipeline( [('scaler', StandardScaler()), \n",
    "                      ('clf', RandomForestClassifier(n_estimators = 10, criterion = 'entropy', random_state = 416))])\n",
    "\n",
    "pipe_gb=Pipeline([('scaler',StandardScaler()),\n",
    "                       ('clf',GradientBoostingClassifier(random_state=1017, random_state=1117))])\n",
    "\n",
    "pipe_knn=Pipeline([('scaler',StandardScaler()),\n",
    "                  ('clf',KNeighborsClassifier(n_neighbors=3, random_state = 1017))])\n",
    "\n",
    "#List of pipelines for ease of iteration\n",
    "pipelines=[pipe_lr,pipe_rf,pipe_gb,pipe_knn]\n",
    "         \n",
    "#Dictionery of pipelines and classifier types for ease of reference\n",
    "pipe_dict={0:'LogisticRegression',1:'Random Forest',2:'GradientBoosting',3:'KNearestNeighbors'}\n",
    "\n",
    "#fit the pipelines\n",
    "for pipe in pipelines:\n",
    "    pipe.fit(X_train,y_train)"
   ]
  },
  {
   "cell_type": "code",
   "execution_count": 192,
   "id": "6033786b-5796-49bd-97d2-2447c21d2e90",
   "metadata": {},
   "outputs": [
    {
     "ename": "KeyboardInterrupt",
     "evalue": "",
     "output_type": "error",
     "traceback": [
      "\u001b[0;31m---------------------------------------------------------------------------\u001b[0m",
      "\u001b[0;31mKeyboardInterrupt\u001b[0m                         Traceback (most recent call last)",
      "Cell \u001b[0;32mIn[192], line 3\u001b[0m\n\u001b[1;32m      1\u001b[0m pipe_gb\u001b[38;5;241m=\u001b[39mPipeline([(\u001b[38;5;124m'\u001b[39m\u001b[38;5;124mscaler\u001b[39m\u001b[38;5;124m'\u001b[39m,StandardScaler()),\n\u001b[1;32m      2\u001b[0m                        (\u001b[38;5;124m'\u001b[39m\u001b[38;5;124mclf\u001b[39m\u001b[38;5;124m'\u001b[39m,GradientBoostingClassifier(random_state\u001b[38;5;241m=\u001b[39m\u001b[38;5;241m1017\u001b[39m))])\n\u001b[0;32m----> 3\u001b[0m \u001b[43mpipe_gb\u001b[49m\u001b[38;5;241;43m.\u001b[39;49m\u001b[43mfit\u001b[49m\u001b[43m(\u001b[49m\u001b[43mX_train\u001b[49m\u001b[43m,\u001b[49m\u001b[43m \u001b[49m\u001b[43my_train\u001b[49m\u001b[43m)\u001b[49m\n",
      "File \u001b[0;32m/Library/Frameworks/Python.framework/Versions/3.11/lib/python3.11/site-packages/sklearn/base.py:1152\u001b[0m, in \u001b[0;36m_fit_context.<locals>.decorator.<locals>.wrapper\u001b[0;34m(estimator, *args, **kwargs)\u001b[0m\n\u001b[1;32m   1145\u001b[0m     estimator\u001b[38;5;241m.\u001b[39m_validate_params()\n\u001b[1;32m   1147\u001b[0m \u001b[38;5;28;01mwith\u001b[39;00m config_context(\n\u001b[1;32m   1148\u001b[0m     skip_parameter_validation\u001b[38;5;241m=\u001b[39m(\n\u001b[1;32m   1149\u001b[0m         prefer_skip_nested_validation \u001b[38;5;129;01mor\u001b[39;00m global_skip_validation\n\u001b[1;32m   1150\u001b[0m     )\n\u001b[1;32m   1151\u001b[0m ):\n\u001b[0;32m-> 1152\u001b[0m     \u001b[38;5;28;01mreturn\u001b[39;00m \u001b[43mfit_method\u001b[49m\u001b[43m(\u001b[49m\u001b[43mestimator\u001b[49m\u001b[43m,\u001b[49m\u001b[43m \u001b[49m\u001b[38;5;241;43m*\u001b[39;49m\u001b[43margs\u001b[49m\u001b[43m,\u001b[49m\u001b[43m \u001b[49m\u001b[38;5;241;43m*\u001b[39;49m\u001b[38;5;241;43m*\u001b[39;49m\u001b[43mkwargs\u001b[49m\u001b[43m)\u001b[49m\n",
      "File \u001b[0;32m/Library/Frameworks/Python.framework/Versions/3.11/lib/python3.11/site-packages/sklearn/pipeline.py:427\u001b[0m, in \u001b[0;36mPipeline.fit\u001b[0;34m(self, X, y, **fit_params)\u001b[0m\n\u001b[1;32m    425\u001b[0m     \u001b[38;5;28;01mif\u001b[39;00m \u001b[38;5;28mself\u001b[39m\u001b[38;5;241m.\u001b[39m_final_estimator \u001b[38;5;241m!=\u001b[39m \u001b[38;5;124m\"\u001b[39m\u001b[38;5;124mpassthrough\u001b[39m\u001b[38;5;124m\"\u001b[39m:\n\u001b[1;32m    426\u001b[0m         fit_params_last_step \u001b[38;5;241m=\u001b[39m fit_params_steps[\u001b[38;5;28mself\u001b[39m\u001b[38;5;241m.\u001b[39msteps[\u001b[38;5;241m-\u001b[39m\u001b[38;5;241m1\u001b[39m][\u001b[38;5;241m0\u001b[39m]]\n\u001b[0;32m--> 427\u001b[0m         \u001b[38;5;28;43mself\u001b[39;49m\u001b[38;5;241;43m.\u001b[39;49m\u001b[43m_final_estimator\u001b[49m\u001b[38;5;241;43m.\u001b[39;49m\u001b[43mfit\u001b[49m\u001b[43m(\u001b[49m\u001b[43mXt\u001b[49m\u001b[43m,\u001b[49m\u001b[43m \u001b[49m\u001b[43my\u001b[49m\u001b[43m,\u001b[49m\u001b[43m \u001b[49m\u001b[38;5;241;43m*\u001b[39;49m\u001b[38;5;241;43m*\u001b[39;49m\u001b[43mfit_params_last_step\u001b[49m\u001b[43m)\u001b[49m\n\u001b[1;32m    429\u001b[0m \u001b[38;5;28;01mreturn\u001b[39;00m \u001b[38;5;28mself\u001b[39m\n",
      "File \u001b[0;32m/Library/Frameworks/Python.framework/Versions/3.11/lib/python3.11/site-packages/sklearn/base.py:1152\u001b[0m, in \u001b[0;36m_fit_context.<locals>.decorator.<locals>.wrapper\u001b[0;34m(estimator, *args, **kwargs)\u001b[0m\n\u001b[1;32m   1145\u001b[0m     estimator\u001b[38;5;241m.\u001b[39m_validate_params()\n\u001b[1;32m   1147\u001b[0m \u001b[38;5;28;01mwith\u001b[39;00m config_context(\n\u001b[1;32m   1148\u001b[0m     skip_parameter_validation\u001b[38;5;241m=\u001b[39m(\n\u001b[1;32m   1149\u001b[0m         prefer_skip_nested_validation \u001b[38;5;129;01mor\u001b[39;00m global_skip_validation\n\u001b[1;32m   1150\u001b[0m     )\n\u001b[1;32m   1151\u001b[0m ):\n\u001b[0;32m-> 1152\u001b[0m     \u001b[38;5;28;01mreturn\u001b[39;00m \u001b[43mfit_method\u001b[49m\u001b[43m(\u001b[49m\u001b[43mestimator\u001b[49m\u001b[43m,\u001b[49m\u001b[43m \u001b[49m\u001b[38;5;241;43m*\u001b[39;49m\u001b[43margs\u001b[49m\u001b[43m,\u001b[49m\u001b[43m \u001b[49m\u001b[38;5;241;43m*\u001b[39;49m\u001b[38;5;241;43m*\u001b[39;49m\u001b[43mkwargs\u001b[49m\u001b[43m)\u001b[49m\n",
      "File \u001b[0;32m/Library/Frameworks/Python.framework/Versions/3.11/lib/python3.11/site-packages/sklearn/ensemble/_gb.py:532\u001b[0m, in \u001b[0;36mBaseGradientBoosting.fit\u001b[0;34m(self, X, y, sample_weight, monitor)\u001b[0m\n\u001b[1;32m    529\u001b[0m     \u001b[38;5;28mself\u001b[39m\u001b[38;5;241m.\u001b[39m_resize_state()\n\u001b[1;32m    531\u001b[0m \u001b[38;5;66;03m# fit the boosting stages\u001b[39;00m\n\u001b[0;32m--> 532\u001b[0m n_stages \u001b[38;5;241m=\u001b[39m \u001b[38;5;28;43mself\u001b[39;49m\u001b[38;5;241;43m.\u001b[39;49m\u001b[43m_fit_stages\u001b[49m\u001b[43m(\u001b[49m\n\u001b[1;32m    533\u001b[0m \u001b[43m    \u001b[49m\u001b[43mX_train\u001b[49m\u001b[43m,\u001b[49m\n\u001b[1;32m    534\u001b[0m \u001b[43m    \u001b[49m\u001b[43my_train\u001b[49m\u001b[43m,\u001b[49m\n\u001b[1;32m    535\u001b[0m \u001b[43m    \u001b[49m\u001b[43mraw_predictions\u001b[49m\u001b[43m,\u001b[49m\n\u001b[1;32m    536\u001b[0m \u001b[43m    \u001b[49m\u001b[43msample_weight_train\u001b[49m\u001b[43m,\u001b[49m\n\u001b[1;32m    537\u001b[0m \u001b[43m    \u001b[49m\u001b[38;5;28;43mself\u001b[39;49m\u001b[38;5;241;43m.\u001b[39;49m\u001b[43m_rng\u001b[49m\u001b[43m,\u001b[49m\n\u001b[1;32m    538\u001b[0m \u001b[43m    \u001b[49m\u001b[43mX_val\u001b[49m\u001b[43m,\u001b[49m\n\u001b[1;32m    539\u001b[0m \u001b[43m    \u001b[49m\u001b[43my_val\u001b[49m\u001b[43m,\u001b[49m\n\u001b[1;32m    540\u001b[0m \u001b[43m    \u001b[49m\u001b[43msample_weight_val\u001b[49m\u001b[43m,\u001b[49m\n\u001b[1;32m    541\u001b[0m \u001b[43m    \u001b[49m\u001b[43mbegin_at_stage\u001b[49m\u001b[43m,\u001b[49m\n\u001b[1;32m    542\u001b[0m \u001b[43m    \u001b[49m\u001b[43mmonitor\u001b[49m\u001b[43m,\u001b[49m\n\u001b[1;32m    543\u001b[0m \u001b[43m\u001b[49m\u001b[43m)\u001b[49m\n\u001b[1;32m    545\u001b[0m \u001b[38;5;66;03m# change shape of arrays after fit (early-stopping or additional ests)\u001b[39;00m\n\u001b[1;32m    546\u001b[0m \u001b[38;5;28;01mif\u001b[39;00m n_stages \u001b[38;5;241m!=\u001b[39m \u001b[38;5;28mself\u001b[39m\u001b[38;5;241m.\u001b[39mestimators_\u001b[38;5;241m.\u001b[39mshape[\u001b[38;5;241m0\u001b[39m]:\n",
      "File \u001b[0;32m/Library/Frameworks/Python.framework/Versions/3.11/lib/python3.11/site-packages/sklearn/ensemble/_gb.py:610\u001b[0m, in \u001b[0;36mBaseGradientBoosting._fit_stages\u001b[0;34m(self, X, y, raw_predictions, sample_weight, random_state, X_val, y_val, sample_weight_val, begin_at_stage, monitor)\u001b[0m\n\u001b[1;32m    603\u001b[0m         initial_loss \u001b[38;5;241m=\u001b[39m loss_(\n\u001b[1;32m    604\u001b[0m             y[\u001b[38;5;241m~\u001b[39msample_mask],\n\u001b[1;32m    605\u001b[0m             raw_predictions[\u001b[38;5;241m~\u001b[39msample_mask],\n\u001b[1;32m    606\u001b[0m             sample_weight[\u001b[38;5;241m~\u001b[39msample_mask],\n\u001b[1;32m    607\u001b[0m         )\n\u001b[1;32m    609\u001b[0m \u001b[38;5;66;03m# fit next stage of trees\u001b[39;00m\n\u001b[0;32m--> 610\u001b[0m raw_predictions \u001b[38;5;241m=\u001b[39m \u001b[38;5;28;43mself\u001b[39;49m\u001b[38;5;241;43m.\u001b[39;49m\u001b[43m_fit_stage\u001b[49m\u001b[43m(\u001b[49m\n\u001b[1;32m    611\u001b[0m \u001b[43m    \u001b[49m\u001b[43mi\u001b[49m\u001b[43m,\u001b[49m\n\u001b[1;32m    612\u001b[0m \u001b[43m    \u001b[49m\u001b[43mX\u001b[49m\u001b[43m,\u001b[49m\n\u001b[1;32m    613\u001b[0m \u001b[43m    \u001b[49m\u001b[43my\u001b[49m\u001b[43m,\u001b[49m\n\u001b[1;32m    614\u001b[0m \u001b[43m    \u001b[49m\u001b[43mraw_predictions\u001b[49m\u001b[43m,\u001b[49m\n\u001b[1;32m    615\u001b[0m \u001b[43m    \u001b[49m\u001b[43msample_weight\u001b[49m\u001b[43m,\u001b[49m\n\u001b[1;32m    616\u001b[0m \u001b[43m    \u001b[49m\u001b[43msample_mask\u001b[49m\u001b[43m,\u001b[49m\n\u001b[1;32m    617\u001b[0m \u001b[43m    \u001b[49m\u001b[43mrandom_state\u001b[49m\u001b[43m,\u001b[49m\n\u001b[1;32m    618\u001b[0m \u001b[43m    \u001b[49m\u001b[43mX_csc\u001b[49m\u001b[43m,\u001b[49m\n\u001b[1;32m    619\u001b[0m \u001b[43m    \u001b[49m\u001b[43mX_csr\u001b[49m\u001b[43m,\u001b[49m\n\u001b[1;32m    620\u001b[0m \u001b[43m\u001b[49m\u001b[43m)\u001b[49m\n\u001b[1;32m    622\u001b[0m \u001b[38;5;66;03m# track loss\u001b[39;00m\n\u001b[1;32m    623\u001b[0m \u001b[38;5;28;01mif\u001b[39;00m do_oob:\n",
      "File \u001b[0;32m/Library/Frameworks/Python.framework/Versions/3.11/lib/python3.11/site-packages/sklearn/ensemble/_gb.py:245\u001b[0m, in \u001b[0;36mBaseGradientBoosting._fit_stage\u001b[0;34m(self, i, X, y, raw_predictions, sample_weight, sample_mask, random_state, X_csc, X_csr)\u001b[0m\n\u001b[1;32m    242\u001b[0m     sample_weight \u001b[38;5;241m=\u001b[39m sample_weight \u001b[38;5;241m*\u001b[39m sample_mask\u001b[38;5;241m.\u001b[39mastype(np\u001b[38;5;241m.\u001b[39mfloat64)\n\u001b[1;32m    244\u001b[0m X \u001b[38;5;241m=\u001b[39m X_csr \u001b[38;5;28;01mif\u001b[39;00m X_csr \u001b[38;5;129;01mis\u001b[39;00m \u001b[38;5;129;01mnot\u001b[39;00m \u001b[38;5;28;01mNone\u001b[39;00m \u001b[38;5;28;01melse\u001b[39;00m X\n\u001b[0;32m--> 245\u001b[0m \u001b[43mtree\u001b[49m\u001b[38;5;241;43m.\u001b[39;49m\u001b[43mfit\u001b[49m\u001b[43m(\u001b[49m\u001b[43mX\u001b[49m\u001b[43m,\u001b[49m\u001b[43m \u001b[49m\u001b[43mresidual\u001b[49m\u001b[43m,\u001b[49m\u001b[43m \u001b[49m\u001b[43msample_weight\u001b[49m\u001b[38;5;241;43m=\u001b[39;49m\u001b[43msample_weight\u001b[49m\u001b[43m,\u001b[49m\u001b[43m \u001b[49m\u001b[43mcheck_input\u001b[49m\u001b[38;5;241;43m=\u001b[39;49m\u001b[38;5;28;43;01mFalse\u001b[39;49;00m\u001b[43m)\u001b[49m\n\u001b[1;32m    247\u001b[0m \u001b[38;5;66;03m# update tree leaves\u001b[39;00m\n\u001b[1;32m    248\u001b[0m loss\u001b[38;5;241m.\u001b[39mupdate_terminal_regions(\n\u001b[1;32m    249\u001b[0m     tree\u001b[38;5;241m.\u001b[39mtree_,\n\u001b[1;32m    250\u001b[0m     X,\n\u001b[0;32m   (...)\u001b[0m\n\u001b[1;32m    257\u001b[0m     k\u001b[38;5;241m=\u001b[39mk,\n\u001b[1;32m    258\u001b[0m )\n",
      "File \u001b[0;32m/Library/Frameworks/Python.framework/Versions/3.11/lib/python3.11/site-packages/sklearn/base.py:1152\u001b[0m, in \u001b[0;36m_fit_context.<locals>.decorator.<locals>.wrapper\u001b[0;34m(estimator, *args, **kwargs)\u001b[0m\n\u001b[1;32m   1145\u001b[0m     estimator\u001b[38;5;241m.\u001b[39m_validate_params()\n\u001b[1;32m   1147\u001b[0m \u001b[38;5;28;01mwith\u001b[39;00m config_context(\n\u001b[1;32m   1148\u001b[0m     skip_parameter_validation\u001b[38;5;241m=\u001b[39m(\n\u001b[1;32m   1149\u001b[0m         prefer_skip_nested_validation \u001b[38;5;129;01mor\u001b[39;00m global_skip_validation\n\u001b[1;32m   1150\u001b[0m     )\n\u001b[1;32m   1151\u001b[0m ):\n\u001b[0;32m-> 1152\u001b[0m     \u001b[38;5;28;01mreturn\u001b[39;00m \u001b[43mfit_method\u001b[49m\u001b[43m(\u001b[49m\u001b[43mestimator\u001b[49m\u001b[43m,\u001b[49m\u001b[43m \u001b[49m\u001b[38;5;241;43m*\u001b[39;49m\u001b[43margs\u001b[49m\u001b[43m,\u001b[49m\u001b[43m \u001b[49m\u001b[38;5;241;43m*\u001b[39;49m\u001b[38;5;241;43m*\u001b[39;49m\u001b[43mkwargs\u001b[49m\u001b[43m)\u001b[49m\n",
      "File \u001b[0;32m/Library/Frameworks/Python.framework/Versions/3.11/lib/python3.11/site-packages/sklearn/tree/_classes.py:1320\u001b[0m, in \u001b[0;36mDecisionTreeRegressor.fit\u001b[0;34m(self, X, y, sample_weight, check_input)\u001b[0m\n\u001b[1;32m   1290\u001b[0m \u001b[38;5;129m@_fit_context\u001b[39m(prefer_skip_nested_validation\u001b[38;5;241m=\u001b[39m\u001b[38;5;28;01mTrue\u001b[39;00m)\n\u001b[1;32m   1291\u001b[0m \u001b[38;5;28;01mdef\u001b[39;00m \u001b[38;5;21mfit\u001b[39m(\u001b[38;5;28mself\u001b[39m, X, y, sample_weight\u001b[38;5;241m=\u001b[39m\u001b[38;5;28;01mNone\u001b[39;00m, check_input\u001b[38;5;241m=\u001b[39m\u001b[38;5;28;01mTrue\u001b[39;00m):\n\u001b[1;32m   1292\u001b[0m \u001b[38;5;250m    \u001b[39m\u001b[38;5;124;03m\"\"\"Build a decision tree regressor from the training set (X, y).\u001b[39;00m\n\u001b[1;32m   1293\u001b[0m \n\u001b[1;32m   1294\u001b[0m \u001b[38;5;124;03m    Parameters\u001b[39;00m\n\u001b[0;32m   (...)\u001b[0m\n\u001b[1;32m   1317\u001b[0m \u001b[38;5;124;03m        Fitted estimator.\u001b[39;00m\n\u001b[1;32m   1318\u001b[0m \u001b[38;5;124;03m    \"\"\"\u001b[39;00m\n\u001b[0;32m-> 1320\u001b[0m     \u001b[38;5;28;43msuper\u001b[39;49m\u001b[43m(\u001b[49m\u001b[43m)\u001b[49m\u001b[38;5;241;43m.\u001b[39;49m\u001b[43m_fit\u001b[49m\u001b[43m(\u001b[49m\n\u001b[1;32m   1321\u001b[0m \u001b[43m        \u001b[49m\u001b[43mX\u001b[49m\u001b[43m,\u001b[49m\n\u001b[1;32m   1322\u001b[0m \u001b[43m        \u001b[49m\u001b[43my\u001b[49m\u001b[43m,\u001b[49m\n\u001b[1;32m   1323\u001b[0m \u001b[43m        \u001b[49m\u001b[43msample_weight\u001b[49m\u001b[38;5;241;43m=\u001b[39;49m\u001b[43msample_weight\u001b[49m\u001b[43m,\u001b[49m\n\u001b[1;32m   1324\u001b[0m \u001b[43m        \u001b[49m\u001b[43mcheck_input\u001b[49m\u001b[38;5;241;43m=\u001b[39;49m\u001b[43mcheck_input\u001b[49m\u001b[43m,\u001b[49m\n\u001b[1;32m   1325\u001b[0m \u001b[43m    \u001b[49m\u001b[43m)\u001b[49m\n\u001b[1;32m   1326\u001b[0m     \u001b[38;5;28;01mreturn\u001b[39;00m \u001b[38;5;28mself\u001b[39m\n",
      "File \u001b[0;32m/Library/Frameworks/Python.framework/Versions/3.11/lib/python3.11/site-packages/sklearn/tree/_classes.py:443\u001b[0m, in \u001b[0;36mBaseDecisionTree._fit\u001b[0;34m(self, X, y, sample_weight, check_input, missing_values_in_feature_mask)\u001b[0m\n\u001b[1;32m    432\u001b[0m \u001b[38;5;28;01melse\u001b[39;00m:\n\u001b[1;32m    433\u001b[0m     builder \u001b[38;5;241m=\u001b[39m BestFirstTreeBuilder(\n\u001b[1;32m    434\u001b[0m         splitter,\n\u001b[1;32m    435\u001b[0m         min_samples_split,\n\u001b[0;32m   (...)\u001b[0m\n\u001b[1;32m    440\u001b[0m         \u001b[38;5;28mself\u001b[39m\u001b[38;5;241m.\u001b[39mmin_impurity_decrease,\n\u001b[1;32m    441\u001b[0m     )\n\u001b[0;32m--> 443\u001b[0m \u001b[43mbuilder\u001b[49m\u001b[38;5;241;43m.\u001b[39;49m\u001b[43mbuild\u001b[49m\u001b[43m(\u001b[49m\u001b[38;5;28;43mself\u001b[39;49m\u001b[38;5;241;43m.\u001b[39;49m\u001b[43mtree_\u001b[49m\u001b[43m,\u001b[49m\u001b[43m \u001b[49m\u001b[43mX\u001b[49m\u001b[43m,\u001b[49m\u001b[43m \u001b[49m\u001b[43my\u001b[49m\u001b[43m,\u001b[49m\u001b[43m \u001b[49m\u001b[43msample_weight\u001b[49m\u001b[43m,\u001b[49m\u001b[43m \u001b[49m\u001b[43mmissing_values_in_feature_mask\u001b[49m\u001b[43m)\u001b[49m\n\u001b[1;32m    445\u001b[0m \u001b[38;5;28;01mif\u001b[39;00m \u001b[38;5;28mself\u001b[39m\u001b[38;5;241m.\u001b[39mn_outputs_ \u001b[38;5;241m==\u001b[39m \u001b[38;5;241m1\u001b[39m \u001b[38;5;129;01mand\u001b[39;00m is_classifier(\u001b[38;5;28mself\u001b[39m):\n\u001b[1;32m    446\u001b[0m     \u001b[38;5;28mself\u001b[39m\u001b[38;5;241m.\u001b[39mn_classes_ \u001b[38;5;241m=\u001b[39m \u001b[38;5;28mself\u001b[39m\u001b[38;5;241m.\u001b[39mn_classes_[\u001b[38;5;241m0\u001b[39m]\n",
      "\u001b[0;31mKeyboardInterrupt\u001b[0m: "
     ]
    }
   ],
   "source": [
    "pipe_gb=Pipeline([('scaler',StandardScaler()),\n",
    "                       ('clf',GradientBoostingClassifier(random_state=1017))])\n",
    "pipe_gb.fit(X_train, y_train)"
   ]
  },
  {
   "cell_type": "code",
   "execution_count": 100,
   "id": "cecd80f2-2f1b-4bfb-b1fe-9e2004943d29",
   "metadata": {},
   "outputs": [
    {
     "name": "stdout",
     "output_type": "stream",
     "text": [
      "LogisticRegression pipeline val accuracy: 0.970\n",
      "Random Forest pipeline val accuracy: 0.813\n",
      "GradientBoosting pipeline val accuracy: 0.551\n",
      "KNearestNeighbors pipeline val accuracy: 0.934\n"
     ]
    }
   ],
   "source": [
    "#compare accuracies\n",
    "for idx,val in enumerate(pipelines):\n",
    "    print('%s pipeline val accuracy: %.3f' %(pipe_dict[idx],val.score(X_val,y_val)))"
   ]
  },
  {
   "cell_type": "markdown",
   "id": "88ec0c98-eed1-4cc1-a44a-6b1ae28bb29b",
   "metadata": {},
   "source": [
    "#### GridSearchCV()\n",
    "\n",
    "Excerpt adapted from: https://www.kaggle.com/code/willkoehrsen/intro-to-model-tuning-grid-and-random-search\n",
    "\n",
    "Grid search finds the hyperparameters resulting in the best cross validation score as defined by the hyperparameter grid or domain. It searches all combinations of values in the domain hoping that the best combination is in the grid.\n",
    "\n",
    "Because it performs cross validation with every single combination of hyperparameters in the grid, grid search is extremely computationally expensive. "
   ]
  },
  {
   "cell_type": "code",
   "execution_count": 76,
   "id": "3e6ec1a6-50e7-48c8-895e-feb8500e1158",
   "metadata": {},
   "outputs": [
    {
     "ename": "SyntaxError",
     "evalue": "invalid syntax (3114711888.py, line 12)",
     "output_type": "error",
     "traceback": [
      "\u001b[0;36m  Cell \u001b[0;32mIn[76], line 12\u001b[0;36m\u001b[0m\n\u001b[0;31m    'n_estimators': [200, 500],\u001b[0m\n\u001b[0m                  ^\u001b[0m\n\u001b[0;31mSyntaxError\u001b[0m\u001b[0;31m:\u001b[0m invalid syntax\n"
     ]
    }
   ],
   "source": [
    "#models to be compared\n",
    "models = {(\n",
    "    ['LogisticRegression', LogisticRegression()],\n",
    "    ['RandomForestClassifier', RandomForestClassifier()],\n",
    "    ['KNeighboursClassifier', KNeighborsClassifier()],\n",
    "    ['GradientBoostingClassifier', GradientBoostingClassifier()]  \n",
    ")}\n",
    "\n",
    "# optimisation parameters for each of the above models\n",
    "param_grid = [{\n",
    "        'RandomForestClassifier': \n",
    "            'n_estimators': [200, 500],\n",
    "            'max_depth':np.arange(3, 20),\n",
    "            'criterion': ['entropy']},\n",
    "        'KNeighboursClassifier': {\n",
    "            'n_neighbors': np.arange(3, 15),\n",
    "            'weights': ['uniform', 'distance'],\n",
    "            'algorithm': ['ball_tree', 'kd_tree', 'brute']},\n",
    "        'LogisticRegression': {\n",
    "            'max_iter': [500,750],                      \n",
    "            'solver': ['lbfgs','newton-cg','sag'],   \n",
    "            'class_weight': ['balanced', 'None'],\n",
    "            'penalty': ['None', 'l2'],\n",
    "            'multi_class': ['multinomial'],\n",
    "            'C' : [1e-3, 1e-2, 1e-1, 1, 10, 100]}, \n",
    "        'GradientBoostingClassifier': {\n",
    "            'loss':['log_loss'],\n",
    "            'learning_rate': [0.001, 0.01, 0.1],\n",
    "            'max_depth':np.arange(3, 20),\n",
    "            'criterion': ['friedman_mse',  'squared_error'],\n",
    "            'n_estimators':[10]}\n",
    "]\n",
    "\n",
    "L=[]\n",
    "def fit(input, output, val_input, val_output):\n",
    "        for name in models.keys():\n",
    "            print(models[name])\n",
    "            est = models[name]\n",
    "            est_params = params[name]\n",
    "            gscv = GridSearchCV(estimator=models, param_grid=param_grid, scoring='accuracy', cv=5, n_jobs=-1, refit='False', verbose=100)\n",
    "            gscv.fit(input, output)\n",
    "            val_accuracy = gscv.score(val_input,val_output)\n",
    "            dat= [[models[name],  gscv.best_score_, val_accuracy, gscv.best_params_]]\n",
    "            L.append(dat)\n",
    "            print('%s pipeline train accuracy: %.3f'%(models[name], gscv.best_score_))\n",
    "            print('%s pipeline val accuracy: %.3f' %(models[name],val_accuracy))\n",
    "            print('best estimator: {}'.format(gscv.best_estimator_))\n",
    "            print('best parameters: {}'.format(gscv.best_params_))\n",
    "        "
   ]
  },
  {
   "cell_type": "code",
   "execution_count": 74,
   "id": "5e1b3f56-f739-41ed-a280-9537ab2c5efa",
   "metadata": {},
   "outputs": [
    {
     "name": "stdout",
     "output_type": "stream",
     "text": [
      "LogisticRegression()\n"
     ]
    },
    {
     "ename": "InvalidParameterError",
     "evalue": "The 'estimator' parameter of GridSearchCV must be an object implementing 'fit'. Got {'LogisticRegression': LogisticRegression(), 'RandomForestClassifier': RandomForestClassifier(), 'KNeighboursClassifier': KNeighborsClassifier(), 'GradientBoostingClassifier': GradientBoostingClassifier()} instead.",
     "output_type": "error",
     "traceback": [
      "\u001b[0;31m---------------------------------------------------------------------------\u001b[0m",
      "\u001b[0;31mInvalidParameterError\u001b[0m                     Traceback (most recent call last)",
      "Cell \u001b[0;32mIn[74], line 1\u001b[0m\n\u001b[0;32m----> 1\u001b[0m model_search \u001b[38;5;241m=\u001b[39m \u001b[43mfit\u001b[49m\u001b[43m(\u001b[49m\u001b[43mX_train\u001b[49m\u001b[43m,\u001b[49m\u001b[43m \u001b[49m\u001b[43my_train\u001b[49m\u001b[43m,\u001b[49m\u001b[43m \u001b[49m\u001b[43mX_val\u001b[49m\u001b[43m,\u001b[49m\u001b[43m \u001b[49m\u001b[43my_val\u001b[49m\u001b[43m)\u001b[49m\n\u001b[1;32m      2\u001b[0m models_performance \u001b[38;5;241m=\u001b[39m pd\u001b[38;5;241m.\u001b[39mDataFrame(L, columns \u001b[38;5;241m=\u001b[39m [\u001b[38;5;124m'\u001b[39m\u001b[38;5;124mClassifier\u001b[39m\u001b[38;5;124m'\u001b[39m, \u001b[38;5;124m'\u001b[39m\u001b[38;5;124mTrain Accuracy\u001b[39m\u001b[38;5;124m'\u001b[39m, \u001b[38;5;124m'\u001b[39m\u001b[38;5;124mVal Accuracy\u001b[39m\u001b[38;5;124m'\u001b[39m, \u001b[38;5;124m'\u001b[39m\u001b[38;5;124mBest Parameters\u001b[39m\u001b[38;5;124m'\u001b[39m])\n\u001b[1;32m      3\u001b[0m models_performance\n",
      "Cell \u001b[0;32mIn[68], line 41\u001b[0m, in \u001b[0;36mfit\u001b[0;34m(input, output, val_input, val_output)\u001b[0m\n\u001b[1;32m     39\u001b[0m est_params \u001b[38;5;241m=\u001b[39m params[name]\n\u001b[1;32m     40\u001b[0m gscv \u001b[38;5;241m=\u001b[39m GridSearchCV(estimator\u001b[38;5;241m=\u001b[39mmodels, param_grid\u001b[38;5;241m=\u001b[39mparam_grid, scoring\u001b[38;5;241m=\u001b[39m\u001b[38;5;124m'\u001b[39m\u001b[38;5;124maccuracy\u001b[39m\u001b[38;5;124m'\u001b[39m, cv\u001b[38;5;241m=\u001b[39m\u001b[38;5;241m5\u001b[39m, n_jobs\u001b[38;5;241m=\u001b[39m\u001b[38;5;241m-\u001b[39m\u001b[38;5;241m1\u001b[39m, refit\u001b[38;5;241m=\u001b[39m\u001b[38;5;124m'\u001b[39m\u001b[38;5;124mFalse\u001b[39m\u001b[38;5;124m'\u001b[39m, verbose\u001b[38;5;241m=\u001b[39m\u001b[38;5;241m100\u001b[39m)\n\u001b[0;32m---> 41\u001b[0m \u001b[43mgscv\u001b[49m\u001b[38;5;241;43m.\u001b[39;49m\u001b[43mfit\u001b[49m\u001b[43m(\u001b[49m\u001b[38;5;28;43minput\u001b[39;49m\u001b[43m,\u001b[49m\u001b[43m \u001b[49m\u001b[43moutput\u001b[49m\u001b[43m)\u001b[49m\n\u001b[1;32m     42\u001b[0m val_accuracy \u001b[38;5;241m=\u001b[39m gscv\u001b[38;5;241m.\u001b[39mscore(val_input,val_output)\n\u001b[1;32m     43\u001b[0m dat\u001b[38;5;241m=\u001b[39m [[models[name],  gscv\u001b[38;5;241m.\u001b[39mbest_score_, val_accuracy, gscv\u001b[38;5;241m.\u001b[39mbest_params_]]\n",
      "File \u001b[0;32m/Library/Frameworks/Python.framework/Versions/3.11/lib/python3.11/site-packages/sklearn/base.py:1145\u001b[0m, in \u001b[0;36m_fit_context.<locals>.decorator.<locals>.wrapper\u001b[0;34m(estimator, *args, **kwargs)\u001b[0m\n\u001b[1;32m   1140\u001b[0m partial_fit_and_fitted \u001b[38;5;241m=\u001b[39m (\n\u001b[1;32m   1141\u001b[0m     fit_method\u001b[38;5;241m.\u001b[39m\u001b[38;5;18m__name__\u001b[39m \u001b[38;5;241m==\u001b[39m \u001b[38;5;124m\"\u001b[39m\u001b[38;5;124mpartial_fit\u001b[39m\u001b[38;5;124m\"\u001b[39m \u001b[38;5;129;01mand\u001b[39;00m _is_fitted(estimator)\n\u001b[1;32m   1142\u001b[0m )\n\u001b[1;32m   1144\u001b[0m \u001b[38;5;28;01mif\u001b[39;00m \u001b[38;5;129;01mnot\u001b[39;00m global_skip_validation \u001b[38;5;129;01mand\u001b[39;00m \u001b[38;5;129;01mnot\u001b[39;00m partial_fit_and_fitted:\n\u001b[0;32m-> 1145\u001b[0m     \u001b[43mestimator\u001b[49m\u001b[38;5;241;43m.\u001b[39;49m\u001b[43m_validate_params\u001b[49m\u001b[43m(\u001b[49m\u001b[43m)\u001b[49m\n\u001b[1;32m   1147\u001b[0m \u001b[38;5;28;01mwith\u001b[39;00m config_context(\n\u001b[1;32m   1148\u001b[0m     skip_parameter_validation\u001b[38;5;241m=\u001b[39m(\n\u001b[1;32m   1149\u001b[0m         prefer_skip_nested_validation \u001b[38;5;129;01mor\u001b[39;00m global_skip_validation\n\u001b[1;32m   1150\u001b[0m     )\n\u001b[1;32m   1151\u001b[0m ):\n\u001b[1;32m   1152\u001b[0m     \u001b[38;5;28;01mreturn\u001b[39;00m fit_method(estimator, \u001b[38;5;241m*\u001b[39margs, \u001b[38;5;241m*\u001b[39m\u001b[38;5;241m*\u001b[39mkwargs)\n",
      "File \u001b[0;32m/Library/Frameworks/Python.framework/Versions/3.11/lib/python3.11/site-packages/sklearn/base.py:638\u001b[0m, in \u001b[0;36mBaseEstimator._validate_params\u001b[0;34m(self)\u001b[0m\n\u001b[1;32m    630\u001b[0m \u001b[38;5;28;01mdef\u001b[39;00m \u001b[38;5;21m_validate_params\u001b[39m(\u001b[38;5;28mself\u001b[39m):\n\u001b[1;32m    631\u001b[0m \u001b[38;5;250m    \u001b[39m\u001b[38;5;124;03m\"\"\"Validate types and values of constructor parameters\u001b[39;00m\n\u001b[1;32m    632\u001b[0m \n\u001b[1;32m    633\u001b[0m \u001b[38;5;124;03m    The expected type and values must be defined in the `_parameter_constraints`\u001b[39;00m\n\u001b[0;32m   (...)\u001b[0m\n\u001b[1;32m    636\u001b[0m \u001b[38;5;124;03m    accepted constraints.\u001b[39;00m\n\u001b[1;32m    637\u001b[0m \u001b[38;5;124;03m    \"\"\"\u001b[39;00m\n\u001b[0;32m--> 638\u001b[0m     \u001b[43mvalidate_parameter_constraints\u001b[49m\u001b[43m(\u001b[49m\n\u001b[1;32m    639\u001b[0m \u001b[43m        \u001b[49m\u001b[38;5;28;43mself\u001b[39;49m\u001b[38;5;241;43m.\u001b[39;49m\u001b[43m_parameter_constraints\u001b[49m\u001b[43m,\u001b[49m\n\u001b[1;32m    640\u001b[0m \u001b[43m        \u001b[49m\u001b[38;5;28;43mself\u001b[39;49m\u001b[38;5;241;43m.\u001b[39;49m\u001b[43mget_params\u001b[49m\u001b[43m(\u001b[49m\u001b[43mdeep\u001b[49m\u001b[38;5;241;43m=\u001b[39;49m\u001b[38;5;28;43;01mFalse\u001b[39;49;00m\u001b[43m)\u001b[49m\u001b[43m,\u001b[49m\n\u001b[1;32m    641\u001b[0m \u001b[43m        \u001b[49m\u001b[43mcaller_name\u001b[49m\u001b[38;5;241;43m=\u001b[39;49m\u001b[38;5;28;43mself\u001b[39;49m\u001b[38;5;241;43m.\u001b[39;49m\u001b[38;5;18;43m__class__\u001b[39;49m\u001b[38;5;241;43m.\u001b[39;49m\u001b[38;5;18;43m__name__\u001b[39;49m\u001b[43m,\u001b[49m\n\u001b[1;32m    642\u001b[0m \u001b[43m    \u001b[49m\u001b[43m)\u001b[49m\n",
      "File \u001b[0;32m/Library/Frameworks/Python.framework/Versions/3.11/lib/python3.11/site-packages/sklearn/utils/_param_validation.py:96\u001b[0m, in \u001b[0;36mvalidate_parameter_constraints\u001b[0;34m(parameter_constraints, params, caller_name)\u001b[0m\n\u001b[1;32m     90\u001b[0m \u001b[38;5;28;01melse\u001b[39;00m:\n\u001b[1;32m     91\u001b[0m     constraints_str \u001b[38;5;241m=\u001b[39m (\n\u001b[1;32m     92\u001b[0m         \u001b[38;5;124mf\u001b[39m\u001b[38;5;124m\"\u001b[39m\u001b[38;5;132;01m{\u001b[39;00m\u001b[38;5;124m'\u001b[39m\u001b[38;5;124m, \u001b[39m\u001b[38;5;124m'\u001b[39m\u001b[38;5;241m.\u001b[39mjoin([\u001b[38;5;28mstr\u001b[39m(c)\u001b[38;5;250m \u001b[39m\u001b[38;5;28;01mfor\u001b[39;00m\u001b[38;5;250m \u001b[39mc\u001b[38;5;250m \u001b[39m\u001b[38;5;129;01min\u001b[39;00m\u001b[38;5;250m \u001b[39mconstraints[:\u001b[38;5;241m-\u001b[39m\u001b[38;5;241m1\u001b[39m]])\u001b[38;5;132;01m}\u001b[39;00m\u001b[38;5;124m or\u001b[39m\u001b[38;5;124m\"\u001b[39m\n\u001b[1;32m     93\u001b[0m         \u001b[38;5;124mf\u001b[39m\u001b[38;5;124m\"\u001b[39m\u001b[38;5;124m \u001b[39m\u001b[38;5;132;01m{\u001b[39;00mconstraints[\u001b[38;5;241m-\u001b[39m\u001b[38;5;241m1\u001b[39m]\u001b[38;5;132;01m}\u001b[39;00m\u001b[38;5;124m\"\u001b[39m\n\u001b[1;32m     94\u001b[0m     )\n\u001b[0;32m---> 96\u001b[0m \u001b[38;5;28;01mraise\u001b[39;00m InvalidParameterError(\n\u001b[1;32m     97\u001b[0m     \u001b[38;5;124mf\u001b[39m\u001b[38;5;124m\"\u001b[39m\u001b[38;5;124mThe \u001b[39m\u001b[38;5;132;01m{\u001b[39;00mparam_name\u001b[38;5;132;01m!r}\u001b[39;00m\u001b[38;5;124m parameter of \u001b[39m\u001b[38;5;132;01m{\u001b[39;00mcaller_name\u001b[38;5;132;01m}\u001b[39;00m\u001b[38;5;124m must be\u001b[39m\u001b[38;5;124m\"\u001b[39m\n\u001b[1;32m     98\u001b[0m     \u001b[38;5;124mf\u001b[39m\u001b[38;5;124m\"\u001b[39m\u001b[38;5;124m \u001b[39m\u001b[38;5;132;01m{\u001b[39;00mconstraints_str\u001b[38;5;132;01m}\u001b[39;00m\u001b[38;5;124m. Got \u001b[39m\u001b[38;5;132;01m{\u001b[39;00mparam_val\u001b[38;5;132;01m!r}\u001b[39;00m\u001b[38;5;124m instead.\u001b[39m\u001b[38;5;124m\"\u001b[39m\n\u001b[1;32m     99\u001b[0m )\n",
      "\u001b[0;31mInvalidParameterError\u001b[0m: The 'estimator' parameter of GridSearchCV must be an object implementing 'fit'. Got {'LogisticRegression': LogisticRegression(), 'RandomForestClassifier': RandomForestClassifier(), 'KNeighboursClassifier': KNeighborsClassifier(), 'GradientBoostingClassifier': GradientBoostingClassifier()} instead."
     ]
    }
   ],
   "source": [
    "model_search = fit(X_train, y_train, X_val, y_val)\n",
    "models_performance = pd.DataFrame(L, columns = ['Classifier', 'Train Accuracy', 'Val Accuracy', 'Best Parameters'])\n",
    "models_performance"
   ]
  },
  {
   "cell_type": "markdown",
   "id": "3a8cba6c-0cae-4cb3-90b0-77889401113d",
   "metadata": {},
   "source": [
    "#### RandomSearchCV()\n",
    "\n",
    "Adapted from: https://www.kaggle.com/code/willkoehrsen/intro-to-model-tuning-grid-and-random-search\n",
    "\n",
    "Whereas grid search finds the optimal value of hyperparameters (assuming they are in the defines grid), random search finds a \"close-enough\" value in far fewer iterations. Rather than evaluating unpromising regions of the hyperparameter search space (i.e. it evaluates every single combination in the grid), random search more efficiently scans and finds a good combination of hyperparameters in far fewer iterations. Despite not relying on past evaluation results, random search can find better values than the default and is more efficient than grid search."
   ]
  },
  {
   "cell_type": "code",
   "execution_count": 53,
   "id": "a58043e0-5e9c-4ba4-a1ec-f7a91be8fa70",
   "metadata": {},
   "outputs": [],
   "source": [
    "#models to be compared\n",
    "models = {\n",
    "    'LogisticRegression': LogisticRegression(),\n",
    "    'RandomForestClassifier': RandomForestClassifier(),\n",
    "    'KNeighboursClassifier': KNeighborsClassifier(),\n",
    "    'GradientBoostingClassifier': GradientBoostingClassifier()  \n",
    "    }\n",
    "\n",
    "# optimization parameters for each of the above models\n",
    "params = {\n",
    "        'RandomForestClassifier':{ \n",
    "            'n_estimators': np.array([200, 300, 400, 500]),\n",
    "            'max_depth': sp_randInt(3,20),\n",
    "            'criterion': ['entropy']},\n",
    "        'KNeighboursClassifier': {\n",
    "            'n_neighbors': sp_randInt(3,15),\n",
    "            'weights': ['uniform', 'distance'],\n",
    "            'algorithm': ['ball_tree', 'kd_tree', 'brute']},\n",
    "        'LogisticRegression': {\n",
    "            'max_iter': sp_randInt(500, 750),                      \n",
    "            'solver': ['lbfgs','newton-cg','sag'],   \n",
    "            'class_weight': ['balanced'],\n",
    "            'penalty': ['None', 'l2'],\n",
    "            'multi_class': ['multinomial'],\n",
    "            'C' :  loguniform(1e-3, 100)}, \n",
    "        'GradientBoostingClassifier': {\n",
    "            'loss':['log_loss'],\n",
    "            'learning_rate': sp_randFloat(),\n",
    "            'subsample'    : sp_randFloat(),\n",
    "            'max_depth'   : sp_randInt(4, 10),\n",
    "            'criterion': ['friedman_mse',  'squared_error'],\n",
    "            'n_estimators':sp_randInt(10, 20)}\n",
    "}\n",
    "\n",
    "cv = RepeatedStratifiedKFold(n_splits=5, n_repeats=3, random_state=706)\n",
    "\n",
    "L=[]\n",
    "def fit(input, output, val_input, val_output):\n",
    "        for name in models.keys():\n",
    "            print(models[name])\n",
    "            est = models[name]\n",
    "            est_params = params[name]\n",
    "            rscv = RandomizedSearchCV(estimator=est, param_distributions=params, scoring='accuracy', cv=cv, n_jobs=-1)\n",
    "            rscv.fit(input, output)\n",
    "            val_model = rscv.predict(x_val)\n",
    "            val_accuracy = accuracy_score(y_val, val_model)\n",
    "            dat= [models[name],  rscv.best_score_, val_accuracy, rscv.best_params_]\n",
    "            L.append(dat)\n",
    "            print('%s pipeline train accuracy: %.3f'%(models[name], rscv.best_score_))\n",
    "            print('%s pipeline val accuracy: %.3f' %(models[name],val_accuracy))\n",
    "            print('best estimator: {}'.format(rscv.best_estimator_))\n",
    "            print('best parameters: {}'.format(rscv.best_params_))\n",
    "        "
   ]
  },
  {
   "cell_type": "code",
   "execution_count": 46,
   "id": "8d1ebc29-f5fb-48d2-bf96-f42b4bb49ba6",
   "metadata": {},
   "outputs": [
    {
     "name": "stdout",
     "output_type": "stream",
     "text": [
      "LogisticRegression()\n"
     ]
    },
    {
     "ename": "TypeError",
     "evalue": "Parameter grid for parameter 'RandomForestClassifier' needs to be a list or a numpy array, but got {'n_estimators': array([200, 300, 400, 500]), 'max_depth': <scipy.stats._distn_infrastructure.rv_discrete_frozen object at 0x137f115d0>, 'criterion': ['entropy']} (of type dict) instead. Single values need to be wrapped in a list with one element.",
     "output_type": "error",
     "traceback": [
      "\u001b[0;31m---------------------------------------------------------------------------\u001b[0m",
      "\u001b[0;31mTypeError\u001b[0m                                 Traceback (most recent call last)",
      "Cell \u001b[0;32mIn[46], line 1\u001b[0m\n\u001b[0;32m----> 1\u001b[0m model_random_search \u001b[38;5;241m=\u001b[39m \u001b[43mfit\u001b[49m\u001b[43m(\u001b[49m\u001b[43mX_train\u001b[49m\u001b[43m,\u001b[49m\u001b[43m \u001b[49m\u001b[43my_train\u001b[49m\u001b[43m,\u001b[49m\u001b[43m \u001b[49m\u001b[43mX_val\u001b[49m\u001b[43m,\u001b[49m\u001b[43m \u001b[49m\u001b[43my_val\u001b[49m\u001b[43m)\u001b[49m\n\u001b[1;32m      2\u001b[0m models_rs_performance \u001b[38;5;241m=\u001b[39m pd\u001b[38;5;241m.\u001b[39mDataFrame(L, columns \u001b[38;5;241m=\u001b[39m [\u001b[38;5;124m'\u001b[39m\u001b[38;5;124mClassifier\u001b[39m\u001b[38;5;124m'\u001b[39m, \u001b[38;5;124m'\u001b[39m\u001b[38;5;124mTrain Accuracy\u001b[39m\u001b[38;5;124m'\u001b[39m, \u001b[38;5;124m'\u001b[39m\u001b[38;5;124mVal Accuracy\u001b[39m\u001b[38;5;124m'\u001b[39m, \u001b[38;5;124m'\u001b[39m\u001b[38;5;124mBest Parameters\u001b[39m\u001b[38;5;124m'\u001b[39m])\n\u001b[1;32m      3\u001b[0m models_rs_performance\n",
      "Cell \u001b[0;32mIn[45], line 44\u001b[0m, in \u001b[0;36mfit\u001b[0;34m(input, output, val_input, val_output)\u001b[0m\n\u001b[1;32m     42\u001b[0m est_params \u001b[38;5;241m=\u001b[39m params[name]\n\u001b[1;32m     43\u001b[0m rscv \u001b[38;5;241m=\u001b[39m RandomizedSearchCV(estimator\u001b[38;5;241m=\u001b[39mest, param_distributions\u001b[38;5;241m=\u001b[39mparams, scoring\u001b[38;5;241m=\u001b[39m\u001b[38;5;124m'\u001b[39m\u001b[38;5;124maccuracy\u001b[39m\u001b[38;5;124m'\u001b[39m, cv\u001b[38;5;241m=\u001b[39mcv, n_jobs\u001b[38;5;241m=\u001b[39m\u001b[38;5;241m-\u001b[39m\u001b[38;5;241m1\u001b[39m)\n\u001b[0;32m---> 44\u001b[0m \u001b[43mrscv\u001b[49m\u001b[38;5;241;43m.\u001b[39;49m\u001b[43mfit\u001b[49m\u001b[43m(\u001b[49m\u001b[38;5;28;43minput\u001b[39;49m\u001b[43m,\u001b[49m\u001b[43m \u001b[49m\u001b[43moutput\u001b[49m\u001b[43m)\u001b[49m\n\u001b[1;32m     45\u001b[0m val_model \u001b[38;5;241m=\u001b[39m rscv\u001b[38;5;241m.\u001b[39mpredict(x_val)\n\u001b[1;32m     46\u001b[0m val_accuracy \u001b[38;5;241m=\u001b[39m accuracy_score(y_val, val_model)\n",
      "File \u001b[0;32m/Library/Frameworks/Python.framework/Versions/3.11/lib/python3.11/site-packages/sklearn/base.py:1152\u001b[0m, in \u001b[0;36m_fit_context.<locals>.decorator.<locals>.wrapper\u001b[0;34m(estimator, *args, **kwargs)\u001b[0m\n\u001b[1;32m   1145\u001b[0m     estimator\u001b[38;5;241m.\u001b[39m_validate_params()\n\u001b[1;32m   1147\u001b[0m \u001b[38;5;28;01mwith\u001b[39;00m config_context(\n\u001b[1;32m   1148\u001b[0m     skip_parameter_validation\u001b[38;5;241m=\u001b[39m(\n\u001b[1;32m   1149\u001b[0m         prefer_skip_nested_validation \u001b[38;5;129;01mor\u001b[39;00m global_skip_validation\n\u001b[1;32m   1150\u001b[0m     )\n\u001b[1;32m   1151\u001b[0m ):\n\u001b[0;32m-> 1152\u001b[0m     \u001b[38;5;28;01mreturn\u001b[39;00m \u001b[43mfit_method\u001b[49m\u001b[43m(\u001b[49m\u001b[43mestimator\u001b[49m\u001b[43m,\u001b[49m\u001b[43m \u001b[49m\u001b[38;5;241;43m*\u001b[39;49m\u001b[43margs\u001b[49m\u001b[43m,\u001b[49m\u001b[43m \u001b[49m\u001b[38;5;241;43m*\u001b[39;49m\u001b[38;5;241;43m*\u001b[39;49m\u001b[43mkwargs\u001b[49m\u001b[43m)\u001b[49m\n",
      "File \u001b[0;32m/Library/Frameworks/Python.framework/Versions/3.11/lib/python3.11/site-packages/sklearn/model_selection/_search.py:898\u001b[0m, in \u001b[0;36mBaseSearchCV.fit\u001b[0;34m(self, X, y, groups, **fit_params)\u001b[0m\n\u001b[1;32m    892\u001b[0m     results \u001b[38;5;241m=\u001b[39m \u001b[38;5;28mself\u001b[39m\u001b[38;5;241m.\u001b[39m_format_results(\n\u001b[1;32m    893\u001b[0m         all_candidate_params, n_splits, all_out, all_more_results\n\u001b[1;32m    894\u001b[0m     )\n\u001b[1;32m    896\u001b[0m     \u001b[38;5;28;01mreturn\u001b[39;00m results\n\u001b[0;32m--> 898\u001b[0m \u001b[38;5;28;43mself\u001b[39;49m\u001b[38;5;241;43m.\u001b[39;49m\u001b[43m_run_search\u001b[49m\u001b[43m(\u001b[49m\u001b[43mevaluate_candidates\u001b[49m\u001b[43m)\u001b[49m\n\u001b[1;32m    900\u001b[0m \u001b[38;5;66;03m# multimetric is determined here because in the case of a callable\u001b[39;00m\n\u001b[1;32m    901\u001b[0m \u001b[38;5;66;03m# self.scoring the return type is only known after calling\u001b[39;00m\n\u001b[1;32m    902\u001b[0m first_test_score \u001b[38;5;241m=\u001b[39m all_out[\u001b[38;5;241m0\u001b[39m][\u001b[38;5;124m\"\u001b[39m\u001b[38;5;124mtest_scores\u001b[39m\u001b[38;5;124m\"\u001b[39m]\n",
      "File \u001b[0;32m/Library/Frameworks/Python.framework/Versions/3.11/lib/python3.11/site-packages/sklearn/model_selection/_search.py:1809\u001b[0m, in \u001b[0;36mRandomizedSearchCV._run_search\u001b[0;34m(self, evaluate_candidates)\u001b[0m\n\u001b[1;32m   1807\u001b[0m \u001b[38;5;28;01mdef\u001b[39;00m \u001b[38;5;21m_run_search\u001b[39m(\u001b[38;5;28mself\u001b[39m, evaluate_candidates):\n\u001b[1;32m   1808\u001b[0m \u001b[38;5;250m    \u001b[39m\u001b[38;5;124;03m\"\"\"Search n_iter candidates from param_distributions\"\"\"\u001b[39;00m\n\u001b[0;32m-> 1809\u001b[0m     \u001b[43mevaluate_candidates\u001b[49m\u001b[43m(\u001b[49m\n\u001b[1;32m   1810\u001b[0m \u001b[43m        \u001b[49m\u001b[43mParameterSampler\u001b[49m\u001b[43m(\u001b[49m\n\u001b[1;32m   1811\u001b[0m \u001b[43m            \u001b[49m\u001b[38;5;28;43mself\u001b[39;49m\u001b[38;5;241;43m.\u001b[39;49m\u001b[43mparam_distributions\u001b[49m\u001b[43m,\u001b[49m\u001b[43m \u001b[49m\u001b[38;5;28;43mself\u001b[39;49m\u001b[38;5;241;43m.\u001b[39;49m\u001b[43mn_iter\u001b[49m\u001b[43m,\u001b[49m\u001b[43m \u001b[49m\u001b[43mrandom_state\u001b[49m\u001b[38;5;241;43m=\u001b[39;49m\u001b[38;5;28;43mself\u001b[39;49m\u001b[38;5;241;43m.\u001b[39;49m\u001b[43mrandom_state\u001b[49m\n\u001b[1;32m   1812\u001b[0m \u001b[43m        \u001b[49m\u001b[43m)\u001b[49m\n\u001b[1;32m   1813\u001b[0m \u001b[43m    \u001b[49m\u001b[43m)\u001b[49m\n",
      "File \u001b[0;32m/Library/Frameworks/Python.framework/Versions/3.11/lib/python3.11/site-packages/sklearn/model_selection/_search.py:834\u001b[0m, in \u001b[0;36mBaseSearchCV.fit.<locals>.evaluate_candidates\u001b[0;34m(candidate_params, cv, more_results)\u001b[0m\n\u001b[1;32m    832\u001b[0m \u001b[38;5;28;01mdef\u001b[39;00m \u001b[38;5;21mevaluate_candidates\u001b[39m(candidate_params, cv\u001b[38;5;241m=\u001b[39m\u001b[38;5;28;01mNone\u001b[39;00m, more_results\u001b[38;5;241m=\u001b[39m\u001b[38;5;28;01mNone\u001b[39;00m):\n\u001b[1;32m    833\u001b[0m     cv \u001b[38;5;241m=\u001b[39m cv \u001b[38;5;129;01mor\u001b[39;00m cv_orig\n\u001b[0;32m--> 834\u001b[0m     candidate_params \u001b[38;5;241m=\u001b[39m \u001b[38;5;28mlist\u001b[39m(candidate_params)\n\u001b[1;32m    835\u001b[0m     n_candidates \u001b[38;5;241m=\u001b[39m \u001b[38;5;28mlen\u001b[39m(candidate_params)\n\u001b[1;32m    837\u001b[0m     \u001b[38;5;28;01mif\u001b[39;00m \u001b[38;5;28mself\u001b[39m\u001b[38;5;241m.\u001b[39mverbose \u001b[38;5;241m>\u001b[39m \u001b[38;5;241m0\u001b[39m:\n",
      "File \u001b[0;32m/Library/Frameworks/Python.framework/Versions/3.11/lib/python3.11/site-packages/sklearn/model_selection/_search.py:302\u001b[0m, in \u001b[0;36mParameterSampler.__iter__\u001b[0;34m(self)\u001b[0m\n\u001b[1;32m    298\u001b[0m \u001b[38;5;66;03m# if all distributions are given as lists, we want to sample without\u001b[39;00m\n\u001b[1;32m    299\u001b[0m \u001b[38;5;66;03m# replacement\u001b[39;00m\n\u001b[1;32m    300\u001b[0m \u001b[38;5;28;01mif\u001b[39;00m \u001b[38;5;28mself\u001b[39m\u001b[38;5;241m.\u001b[39m_is_all_lists():\n\u001b[1;32m    301\u001b[0m     \u001b[38;5;66;03m# look up sampled parameter settings in parameter grid\u001b[39;00m\n\u001b[0;32m--> 302\u001b[0m     param_grid \u001b[38;5;241m=\u001b[39m \u001b[43mParameterGrid\u001b[49m\u001b[43m(\u001b[49m\u001b[38;5;28;43mself\u001b[39;49m\u001b[38;5;241;43m.\u001b[39;49m\u001b[43mparam_distributions\u001b[49m\u001b[43m)\u001b[49m\n\u001b[1;32m    303\u001b[0m     grid_size \u001b[38;5;241m=\u001b[39m \u001b[38;5;28mlen\u001b[39m(param_grid)\n\u001b[1;32m    304\u001b[0m     n_iter \u001b[38;5;241m=\u001b[39m \u001b[38;5;28mself\u001b[39m\u001b[38;5;241m.\u001b[39mn_iter\n",
      "File \u001b[0;32m/Library/Frameworks/Python.framework/Versions/3.11/lib/python3.11/site-packages/sklearn/model_selection/_search.py:119\u001b[0m, in \u001b[0;36mParameterGrid.__init__\u001b[0;34m(self, param_grid)\u001b[0m\n\u001b[1;32m    112\u001b[0m     \u001b[38;5;28;01mraise\u001b[39;00m \u001b[38;5;167;01mValueError\u001b[39;00m(\n\u001b[1;32m    113\u001b[0m         \u001b[38;5;124mf\u001b[39m\u001b[38;5;124m\"\u001b[39m\u001b[38;5;124mParameter array for \u001b[39m\u001b[38;5;132;01m{\u001b[39;00mkey\u001b[38;5;132;01m!r}\u001b[39;00m\u001b[38;5;124m should be one-dimensional, got:\u001b[39m\u001b[38;5;124m\"\u001b[39m\n\u001b[1;32m    114\u001b[0m         \u001b[38;5;124mf\u001b[39m\u001b[38;5;124m\"\u001b[39m\u001b[38;5;124m \u001b[39m\u001b[38;5;132;01m{\u001b[39;00mvalue\u001b[38;5;132;01m!r}\u001b[39;00m\u001b[38;5;124m with shape \u001b[39m\u001b[38;5;132;01m{\u001b[39;00mvalue\u001b[38;5;241m.\u001b[39mshape\u001b[38;5;132;01m}\u001b[39;00m\u001b[38;5;124m\"\u001b[39m\n\u001b[1;32m    115\u001b[0m     )\n\u001b[1;32m    116\u001b[0m \u001b[38;5;28;01mif\u001b[39;00m \u001b[38;5;28misinstance\u001b[39m(value, \u001b[38;5;28mstr\u001b[39m) \u001b[38;5;129;01mor\u001b[39;00m \u001b[38;5;129;01mnot\u001b[39;00m \u001b[38;5;28misinstance\u001b[39m(\n\u001b[1;32m    117\u001b[0m     value, (np\u001b[38;5;241m.\u001b[39mndarray, Sequence)\n\u001b[1;32m    118\u001b[0m ):\n\u001b[0;32m--> 119\u001b[0m     \u001b[38;5;28;01mraise\u001b[39;00m \u001b[38;5;167;01mTypeError\u001b[39;00m(\n\u001b[1;32m    120\u001b[0m         \u001b[38;5;124mf\u001b[39m\u001b[38;5;124m\"\u001b[39m\u001b[38;5;124mParameter grid for parameter \u001b[39m\u001b[38;5;132;01m{\u001b[39;00mkey\u001b[38;5;132;01m!r}\u001b[39;00m\u001b[38;5;124m needs to be a list or a\u001b[39m\u001b[38;5;124m\"\u001b[39m\n\u001b[1;32m    121\u001b[0m         \u001b[38;5;124mf\u001b[39m\u001b[38;5;124m\"\u001b[39m\u001b[38;5;124m numpy array, but got \u001b[39m\u001b[38;5;132;01m{\u001b[39;00mvalue\u001b[38;5;132;01m!r}\u001b[39;00m\u001b[38;5;124m (of type \u001b[39m\u001b[38;5;124m\"\u001b[39m\n\u001b[1;32m    122\u001b[0m         \u001b[38;5;124mf\u001b[39m\u001b[38;5;124m\"\u001b[39m\u001b[38;5;132;01m{\u001b[39;00m\u001b[38;5;28mtype\u001b[39m(value)\u001b[38;5;241m.\u001b[39m\u001b[38;5;18m__name__\u001b[39m\u001b[38;5;132;01m}\u001b[39;00m\u001b[38;5;124m) instead. Single values \u001b[39m\u001b[38;5;124m\"\u001b[39m\n\u001b[1;32m    123\u001b[0m         \u001b[38;5;124m\"\u001b[39m\u001b[38;5;124mneed to be wrapped in a list with one element.\u001b[39m\u001b[38;5;124m\"\u001b[39m\n\u001b[1;32m    124\u001b[0m     )\n\u001b[1;32m    125\u001b[0m \u001b[38;5;28;01mif\u001b[39;00m \u001b[38;5;28mlen\u001b[39m(value) \u001b[38;5;241m==\u001b[39m \u001b[38;5;241m0\u001b[39m:\n\u001b[1;32m    126\u001b[0m     \u001b[38;5;28;01mraise\u001b[39;00m \u001b[38;5;167;01mValueError\u001b[39;00m(\n\u001b[1;32m    127\u001b[0m         \u001b[38;5;124mf\u001b[39m\u001b[38;5;124m\"\u001b[39m\u001b[38;5;124mParameter grid for parameter \u001b[39m\u001b[38;5;132;01m{\u001b[39;00mkey\u001b[38;5;132;01m!r}\u001b[39;00m\u001b[38;5;124m need \u001b[39m\u001b[38;5;124m\"\u001b[39m\n\u001b[1;32m    128\u001b[0m         \u001b[38;5;124mf\u001b[39m\u001b[38;5;124m\"\u001b[39m\u001b[38;5;124mto be a non-empty sequence, got: \u001b[39m\u001b[38;5;132;01m{\u001b[39;00mvalue\u001b[38;5;132;01m!r}\u001b[39;00m\u001b[38;5;124m\"\u001b[39m\n\u001b[1;32m    129\u001b[0m     )\n",
      "\u001b[0;31mTypeError\u001b[0m: Parameter grid for parameter 'RandomForestClassifier' needs to be a list or a numpy array, but got {'n_estimators': array([200, 300, 400, 500]), 'max_depth': <scipy.stats._distn_infrastructure.rv_discrete_frozen object at 0x137f115d0>, 'criterion': ['entropy']} (of type dict) instead. Single values need to be wrapped in a list with one element."
     ]
    }
   ],
   "source": [
    "model_random_search = fit(X_train, y_train, X_val, y_val)\n",
    "models_rs_performance = pd.DataFrame(L, columns = ['Classifier', 'Train Accuracy', 'Val Accuracy', 'Best Parameters'])\n",
    "models_rs_performance"
   ]
  },
  {
   "cell_type": "code",
   "execution_count": 40,
   "id": "850a3f1e-c8e7-49e8-8854-f19ae474bce1",
   "metadata": {},
   "outputs": [
    {
     "data": {
      "text/plain": [
       "[[[LogisticRegression(),\n",
       "   0.9856938141867686,\n",
       "   0.010101010101010102,\n",
       "   {'C': 89.1088799064331,\n",
       "    'class_weight': 'balanced',\n",
       "    'max_iter': 705,\n",
       "    'multi_class': 'multinomial',\n",
       "    'penalty': 'l2',\n",
       "    'solver': 'newton-cg'}]],\n",
       " [[RandomForestClassifier(),\n",
       "   0.9600058381763661,\n",
       "   0.010101010101010102,\n",
       "   {'criterion': 'entropy', 'max_depth': 9, 'n_estimators': 300}]],\n",
       " [[KNeighborsClassifier(),\n",
       "   0.9743226388557176,\n",
       "   0.010101010101010102,\n",
       "   {'algorithm': 'brute', 'n_neighbors': 4, 'weights': 'distance'}]],\n",
       " [[GradientBoostingClassifier(),\n",
       "   0.5550486956983255,\n",
       "   0.010101010101010102,\n",
       "   {'criterion': 'squared_error',\n",
       "    'learning_rate': 0.1780021932895497,\n",
       "    'loss': 'log_loss',\n",
       "    'max_depth': 5,\n",
       "    'n_estimators': 15,\n",
       "    'subsample': 0.8735896511885844}]]]"
      ]
     },
     "execution_count": 40,
     "metadata": {},
     "output_type": "execute_result"
    }
   ],
   "source": [
    "L"
   ]
  }
 ],
 "metadata": {
  "kernelspec": {
   "display_name": "Python 3 (ipykernel)",
   "language": "python",
   "name": "python3"
  },
  "language_info": {
   "codemirror_mode": {
    "name": "ipython",
    "version": 3
   },
   "file_extension": ".py",
   "mimetype": "text/x-python",
   "name": "python",
   "nbconvert_exporter": "python",
   "pygments_lexer": "ipython3",
   "version": "3.11.0"
  }
 },
 "nbformat": 4,
 "nbformat_minor": 5
}
